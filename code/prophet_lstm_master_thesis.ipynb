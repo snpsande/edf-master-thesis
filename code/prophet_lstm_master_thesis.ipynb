{
  "nbformat": 4,
  "nbformat_minor": 0,
  "metadata": {
    "colab": {
      "provenance": [],
      "collapsed_sections": [
        "LbQw4F0V-z1N"
      ]
    },
    "kernelspec": {
      "name": "python3",
      "display_name": "Python 3"
    },
    "language_info": {
      "name": "python"
    }
  },
  "cells": [
    {
      "cell_type": "markdown",
      "source": [
        "to do\n",
        "\n",
        "* outliers niet uit test set halen\n",
        "* met opvullen kijken we naar omliggende waardes, is dat fair in de test set? want in realiteit kan dat niet... dan wil je alleen naar voorafgaande waardes kijken\n",
        "\n",
        "* test set behandelen alsof je nog niks weet want is in theorie nog niet gebeurd.\n",
        "\n",
        "\n",
        "* week before prediction\n",
        "* 2 week before\n",
        "* month before\n",
        "* etc...\n",
        "\n",
        "voor 1 week prediction je 1 week lag model gebruiken. voor je 2 weken prediction die van 2 gebruiken en dan voor je 1. wk je 1 wk model gebruiken. dus je gebruikt meerdere modellen. zo gebruik je steeds nieuwste data."
      ],
      "metadata": {
        "id": "JIpKP6FplENh"
      }
    },
    {
      "cell_type": "code",
      "execution_count": 1,
      "metadata": {
        "colab": {
          "base_uri": "https://localhost:8080/"
        },
        "id": "YL2oS8JRESYc",
        "outputId": "676bb729-9807-4f9d-c412-eb10e3d01f5d"
      },
      "outputs": [
        {
          "output_type": "stream",
          "name": "stdout",
          "text": [
            "Mounted at /content/drive/\n"
          ]
        }
      ],
      "source": [
        "from google.colab import drive\n",
        "import os, sys\n",
        "drive.mount('/content/drive/')"
      ]
    },
    {
      "cell_type": "markdown",
      "source": [
        "# Imports"
      ],
      "metadata": {
        "id": "gah-pEe8iVtV"
      }
    },
    {
      "cell_type": "code",
      "source": [
        "import pandas as pd\n",
        "from scipy.stats import pearsonr\n",
        "import datetime\n",
        "\n",
        "import pandas as pd\n",
        "import numpy as np\n",
        "from sklearn.experimental import enable_iterative_imputer\n",
        "from sklearn.impute import IterativeImputer\n",
        "import holidays\n",
        "\n",
        "from prophet import Prophet\n",
        "import math\n",
        "from sklearn.metrics import mean_squared_error\n",
        "\n",
        "from typing import Optional, Any, Tuple, List\n",
        "\n",
        "import matplotlib.pyplot as plt\n",
        "import tensorflow as tf\n",
        "from tensorflow.keras.models import Sequential\n",
        "from tensorflow.keras.layers import Dense, LSTM, InputLayer, Dropout\n",
        "\n",
        "from sklearn.preprocessing import MinMaxScaler\n",
        "from sklearn.metrics import mean_squared_error\n",
        "\n",
        "from sklearn.preprocessing import LabelEncoder, OneHotEncoder\n",
        "\n",
        "# fix random seed for reproducibility\n",
        "tf.random.set_seed(7)\n",
        "\n",
        "import warnings\n",
        "warnings.filterwarnings(\"ignore\")"
      ],
      "metadata": {
        "id": "HKNI4LS5EV0R"
      },
      "execution_count": 24,
      "outputs": []
    },
    {
      "cell_type": "markdown",
      "source": [
        "# Preprocessing"
      ],
      "metadata": {
        "id": "XXXsIBx8iXA5"
      }
    },
    {
      "cell_type": "code",
      "source": [
        "\"\"\"\n",
        "Step 1: before data splitting\n",
        "* read data\n",
        "* encode strings\n",
        "* create national holiday flag\n",
        "* find numerical columns\n",
        "\"\"\"\n",
        "\n",
        "def read_processed_data() -> pd.DataFrame:\n",
        "  df = pd.read_csv('/content/drive/MyDrive/master_thesis_data/preprocessed_data.csv')\n",
        "  df.drop(columns=[\n",
        "      'Unnamed: 0',\n",
        "      'Aardgas_Variabel_leveringstarief_prijsplafond_(Euro_m3)',\n",
        "      'Elektriciteit_Variabel_leveringstarief_prijsplafond_(Euro_kWh)',\n",
        "      'Statistische overdracht', 'Hour', 'Year',\n",
        "      'Week', 'WeekKey', 'day_of_week', 'Month', 'Biomassa', 'Windenergie',\n",
        "      'Zonne-energie', 'Warmtepompen', 'Overig'], inplace=True)\n",
        "  df['DateUTC'] = pd.to_datetime(df['DateUTC'])\n",
        "  return df\n",
        "\n",
        "\n",
        "# def encode_string_columns(df: pd.DataFrame) -> pd.DataFrame:\n",
        "#   \"\"\"OHE the day of week (string) column.\"\"\"\n",
        "#   OHE = OneHotEncoder(sparse=False)\n",
        "#   onehot_encoded = OHE.fit_transform(df[['day_of_week']])\n",
        "#   onehot_encoded_df = pd.DataFrame(onehot_encoded, columns=[f'day_of_week_{i}' for i in range(onehot_encoded.shape[1])])\n",
        "\n",
        "#   df = pd.concat([df, onehot_encoded_df], axis=1)\n",
        "#   df.drop(columns=['day_of_week'], inplace=True)\n",
        "#   df.drop(columns=['Biomassa', 'Windenergie', 'Zonne-energie', 'Warmtepompen', 'Overig'], inplace=True)\n",
        "#   return df\n",
        "\n",
        "\n",
        "def create_national_holiday_and_event_flag(df: pd.DataFrame) -> pd.DataFrame:\n",
        "  \"\"\"Create a flag for Dutch national holidays.\n",
        "  Also flag all the days after the Ukraine Russia war started.\"\"\"\n",
        "  dutch_holidays = holidays.NL()\n",
        "  df['NationalHolidayFlag'] = df['Date'].apply(lambda x: 1 if dutch_holidays.get(x) is not None  else 0)\n",
        "\n",
        "  date_war_ukraine_russia = datetime.date(2022, 2, 24)\n",
        "  df['Date'] = pd.to_datetime(df['Date']).dt.date\n",
        "  df['SpecialEventFlag'] = df['Date'].apply(lambda x: 1 if x >= date_war_ukraine_russia else 0)\n",
        "  df.drop(columns=['Date'], inplace=True)\n",
        "  return df\n",
        "\n",
        "\n",
        "def find_numerical_columns(df: pd.DataFrame) -> list:\n",
        "  \"\"\"Find the numerical columns (int or float) in the given df.\"\"\"\n",
        "  return df.select_dtypes(include=['int64', 'float64']).columns.tolist()\n",
        "\n",
        "\n",
        "\"\"\"\n",
        "Step 2: remove outliers from train part of load consumption\n",
        "We decide for now not to remove outliers from any of the rest of the data. Since things about weather and price are just things that are realistic to happen.\n",
        "\"\"\"\n",
        "\n",
        "def clear_outliers(df: pd.DataFrame, numerical_columns: list, start_winter: datetime.datetime) -> pd.DataFrame:\n",
        "  \"\"\"\n",
        "  Use IQR to detect the outliers.\n",
        "  Next, set them to nan.\n",
        "  \"\"\"\n",
        "  df_train = df[df['DateUTC'] < start_test_wintertime]\n",
        "  df_test = df[df['DateUTC'] >= start_test_wintertime]\n",
        "  df_numerical_columns = df_train[numerical_columns]\n",
        "\n",
        "  q1 = df_numerical_columns.quantile(0.25)\n",
        "  q3 = df_numerical_columns.quantile(0.75)\n",
        "\n",
        "  IQR = q3 - q1\n",
        "\n",
        "  lower_bound = q1 - 1.5 * IQR\n",
        "  upper_bound = q3 + 1.5 * IQR\n",
        "\n",
        "  for col in numerical_columns:\n",
        "    outliers = (df_train[col] < lower_bound[col]) | (df_train[col] > upper_bound[col])\n",
        "    df_train.loc[outliers, col] = pd.NA\n",
        "\n",
        "  df_merged = pd.concat([df_train, df_test])\n",
        "  return df_merged\n",
        "\n",
        "\"\"\"\n",
        "Step 3: shift data\n",
        "2 month ahead value\n",
        "\"\"\"\n",
        "\n",
        "def shift_data(df: pd.DataFrame, n_days_lag: int ) -> pd.DataFrame:\n",
        "  \"\"\"Shift the predictors in the dataset,\n",
        "  except for y and ds and the features that are known beforehand.\"\"\"\n",
        "\n",
        "  all_columns = list(df.columns)\n",
        "  all_columns.remove('DateUTC')\n",
        "  # all_columns.remove('Date')\n",
        "\n",
        "  df_lag = df.copy()\n",
        "  lag = n_days_lag * 24\n",
        "\n",
        "  df_lag.sort_values('DateUTC', inplace=True)\n",
        "\n",
        "  for i in all_columns:\n",
        "    if i not in known_features_list:\n",
        "      df_lag[f\"{i}-{n_days_lag}days\"] = df_lag[i].shift(lag)\n",
        "      if (i != 'LoadConsumption'):\n",
        "        df_lag.drop(columns=[i], inplace=True)\n",
        "\n",
        "\n",
        "  df_lag = df_lag.iloc[lag:]\n",
        "  df_lag.reset_index(inplace=True, drop=True)\n",
        "\n",
        "  return df_lag\n",
        "\n",
        "\"\"\"\n",
        "Step 4: split data\n",
        "\n",
        "We do this now before the other processing step to prevent data leakage.\n",
        "\"\"\"\n",
        "\n",
        "def split_train_val_test(df: pd.DataFrame, start_test_wintertime: datetime.date) -> Tuple[pd.DataFrame, pd.DataFrame]:\n",
        "  \"\"\"Split the df into train/val and test data.\"\"\"\n",
        "  df['DateUTC'] = pd.to_datetime(df['DateUTC'])\n",
        "  df_test = df[df['DateUTC'] >= start_test_wintertime]\n",
        "  df_train_val = df[df['DateUTC'] < start_test_wintertime]\n",
        "\n",
        "  df_test.reset_index(inplace=True, drop=True)\n",
        "\n",
        "  return (df_test, df_train_val)\n",
        "\n",
        "\n",
        "\"\"\"\n",
        "Step 5: impute numerical columns\n",
        "\"\"\"\n",
        "\n",
        "def impute_numerical_columns(df_train_val: pd.DataFrame, df_test: pd.DataFrame, numerical_columns: List, n_days_lag: int) -> Tuple[pd.DataFrame, pd.DataFrame, List]:\n",
        "  numerical_columns_lagged = [f\"{i}-{n_days_lag}days\" if i not in known_features_list else i for i in numerical_columns]\n",
        "\n",
        "  # impute load consumption with fit transform\n",
        "  imputer = IterativeImputer(max_iter=10, random_state=0)\n",
        "  df_train_val['LoadConsumption_imputed'] = imputer.fit_transform(df_train_val[['LoadConsumption']])\n",
        "  df_train_val['LoadConsumption'] = df_train_val.apply(lambda row:\n",
        "                                                      row['LoadConsumption']\n",
        "                                                      if pd.notnull(row['LoadConsumption'])\n",
        "                                                      else row['LoadConsumption_imputed'],\n",
        "                                                      axis=1)\n",
        "\n",
        "  #tmp rename column to be able to use the transform from LoadConsumption\n",
        "  df_train_val_tmp = df_train_val[['DateUTC', f'LoadConsumption-{n_days_lag}days']]\n",
        "  df_train_val_tmp.rename(columns={f'LoadConsumption-{n_days_lag}days':'LoadConsumption'}, inplace=True)\n",
        "\n",
        "  # impute load consumption lagged with transform\n",
        "  df_train_val_tmp['LoadConsumption_imputed'] = imputer.transform(df_train_val[['LoadConsumption']])\n",
        "  df_train_val_tmp['LoadConsumption'] = df_train_val_tmp.apply(lambda row:\n",
        "                                                                row['LoadConsumption']\n",
        "                                                                if pd.notnull(row['LoadConsumption'])\n",
        "                                                                else row['LoadConsumption_imputed'],\n",
        "                                                                axis=1)\n",
        "  df_train_val_tmp.drop(columns=['LoadConsumption_imputed'], inplace=True)\n",
        "\n",
        "  # rename back to old name\n",
        "  df_train_val_tmp.rename(columns={'LoadConsumption':f'LoadConsumption-{n_days_lag}days'}, inplace=True)\n",
        "\n",
        "  # merge to df\n",
        "  df_train_val.drop(columns=[f'LoadConsumption-{n_days_lag}days'], inplace=True)\n",
        "  df_train_val = df_train_val.merge(df_train_val_tmp, on = 'DateUTC', how = 'left')\n",
        "  df_train_val.drop(columns=['LoadConsumption_imputed'], inplace=True)\n",
        "\n",
        "  numerical_columns_lagged.remove(f'LoadConsumption-{n_days_lag}days')\n",
        "\n",
        "  imputed_columns = []\n",
        "\n",
        "  for i in numerical_columns_lagged:\n",
        "    imputer = IterativeImputer(max_iter=10, random_state=0)\n",
        "    df_train_val[f'{i}_imputed'] = imputer.fit_transform(df_train_val[[i]])\n",
        "    df_train_val[i] = df_train_val.apply(lambda row: row[i] if pd.notnull(row[i]) else row[f'{i}_imputed'], axis=1)\n",
        "    df_train_val.drop(columns=[f'{i}_imputed'], inplace=True)\n",
        "\n",
        "    df_test[f'{i}_imputed'] = imputer.transform(df_test[[i]])\n",
        "    df_test[i] = df_test.apply(lambda row: row[i] if pd.notnull(row[i]) else row[f'{i}_imputed'], axis=1)\n",
        "    df_test.drop(columns=[f'{i}_imputed'], inplace=True)\n",
        "\n",
        "\n",
        "  return (df_train_val, df_test, numerical_columns_lagged)\n",
        "\n",
        "\n",
        "\"\"\"\n",
        "Step 6: Predictor selection\n",
        "\"\"\"\n",
        "def select_top_n_correlated_predictors(df: pd.DataFrame, numerical_columns: list, n_predictors: int, alpha: float) -> dict:\n",
        "    \"\"\"Select the top n predictors based on their Pearson correlation coefficient and return their correlation\n",
        "    coefficients and p-values in a dictionary.\"\"\"\n",
        "\n",
        "    predictors_dict = {}\n",
        "    for predictor in numerical_columns:\n",
        "      if predictor != 'LoadConsumption':\n",
        "        corr, p_value = pearsonr(df['LoadConsumption'], df[predictor])\n",
        "        if p_value < alpha:\n",
        "            predictors_dict[predictor] = {'corr': corr, 'p_value': p_value}\n",
        "\n",
        "    sorted_items = sorted(predictors_dict.items(), key=lambda x: abs(x[1]['corr']), reverse=True)\n",
        "\n",
        "    selected_predictors = {}\n",
        "    for key, value in sorted_items[:n_predictors]:\n",
        "        selected_predictors[key] = value\n",
        "\n",
        "    predictors_list = list(selected_predictors.keys())\n",
        "    print(f\"These are top {n_predictors} predictors: \", predictors_list)\n",
        "\n",
        "    return selected_predictors, predictors_list\n",
        "\n",
        "\n",
        "\"\"\"\n",
        "Step 7: feature selection\n",
        "\"\"\"\n",
        "def prepare_data_for_prophet(\n",
        "    df: pd.DataFrame,\n",
        "    top_n_predictors_list: list,\n",
        "    use_top_n_predictors: bool,\n",
        "    use_all_predictors: bool,\n",
        "    use_no_predictors: bool,\n",
        "    n_days_lag: int) -> pd.DataFrame:\n",
        "  \"\"\"Select the predictors from the df and rename date to ds and load to y.\"\"\"\n",
        "\n",
        "  if use_all_predictors:\n",
        "    print(\"All predictors are used\")\n",
        "    df_prophet = df.copy()\n",
        "\n",
        "  if use_top_n_predictors:\n",
        "    print(\"Top n predictors are used\")\n",
        "    cols_to_select = top_n_predictors_list.copy()\n",
        "    cols_to_select.append('DateUTC')\n",
        "    cols_to_select.append('LoadConsumption')\n",
        "    df_prophet = df[cols_to_select]\n",
        "\n",
        "  if use_no_predictors:\n",
        "    print(\"No predictors are used\")\n",
        "    df_prophet = df[['DateUTC', f'LoadConsumption-{n_days_lag}days', 'LoadConsumption']]\n",
        "\n",
        "  df_prophet.rename(columns={'DateUTC':'ds', 'LoadConsumption':'y'}, inplace=True)\n",
        "\n",
        "  return df_prophet\n",
        "\n",
        "\n",
        "def preprocess_data(\n",
        "    n_predictors: int,\n",
        "    alpha: float,\n",
        "    use_top_n_predictors: bool,\n",
        "    use_all_predictors: bool,\n",
        "    use_no_predictors: bool,\n",
        "    known_features_list: list,\n",
        "    start_test_wintertime: datetime.datetime,\n",
        "    n_days_lag: int):\n",
        "  \"\"\"Run all data preprocessing steps.\"\"\"\n",
        "\n",
        "  df = read_processed_data()\n",
        "  # df_encoded = encode_string_columns(df)\n",
        "  df_flagged = create_national_holiday_and_event_flag(df)\n",
        "  numerical_columns = find_numerical_columns(df_flagged)\n",
        "\n",
        "  df_flagged_outliers_cleared = clear_outliers(df_flagged, numerical_columns=['LoadConsumption'], start_winter=start_test_wintertime)\n",
        "\n",
        "  df_lag = shift_data(df_flagged_outliers_cleared, n_days_lag)\n",
        "\n",
        "  (df_test, df_train_val) = split_train_val_test(df_lag, start_test_wintertime)\n",
        "\n",
        "  (df_train_val, df_test, numerical_columns_lagged) = impute_numerical_columns(df_train_val, df_test, numerical_columns, n_days_lag)\n",
        "\n",
        "  if use_top_n_predictors:\n",
        "    predictors_dict, predictors_list = select_top_n_correlated_predictors(df_train_val, numerical_columns_lagged, n_predictors, alpha)\n",
        "\n",
        "  elif use_all_predictors:\n",
        "    predictors_list = list(df_train_val.columns)\n",
        "    predictors_list.remove('DateUTC')\n",
        "    predictors_list.remove('LoadConsumption')\n",
        "\n",
        "  else:\n",
        "    predictors_list = []\n",
        "\n",
        "\n",
        "  df_train_prophet = prepare_data_for_prophet(\n",
        "      df=df_train_val,\n",
        "      top_n_predictors_list=predictors_list,\n",
        "      use_top_n_predictors=use_top_n_predictors,\n",
        "      use_all_predictors=use_all_predictors,\n",
        "      use_no_predictors=use_no_predictors,\n",
        "      n_days_lag=n_days_lag\n",
        "  )\n",
        "\n",
        "  df_test_prophet = prepare_data_for_prophet(\n",
        "      df=df_test,\n",
        "      top_n_predictors_list=predictors_list,\n",
        "      use_top_n_predictors=use_top_n_predictors,\n",
        "      use_all_predictors=use_all_predictors,\n",
        "      use_no_predictors=use_no_predictors,\n",
        "      n_days_lag=n_days_lag\n",
        "  )\n",
        "\n",
        "  return df_train_prophet, df_test_prophet, predictors_list"
      ],
      "metadata": {
        "id": "0fiaF-q2Yidx"
      },
      "execution_count": null,
      "outputs": []
    },
    {
      "cell_type": "markdown",
      "source": [
        "# Prophet"
      ],
      "metadata": {
        "id": "iaYHVBiQiaYv"
      }
    },
    {
      "cell_type": "code",
      "source": [
        "from sklearn.model_selection import TimeSeriesSplit\n",
        "from sklearn.metrics import mean_squared_error\n",
        "from sklearn.linear_model import LinearRegression\n",
        "\n",
        "\n",
        "\"\"\"\n",
        "Step 8: Prophet model: train Prophet on the training data.\n",
        "Use the trained Prophet model to make predictions for the entire dataset,\n",
        "including both training and test sets.\n",
        "\"\"\"\n",
        "\n",
        "def initialize_prophet(\n",
        "    regressors: list,\n",
        "    add_seasonality: bool,\n",
        "    fourier_weekly: Optional[int],\n",
        "    fourier_annual: Optional[int],\n",
        "    automatic: bool):\n",
        "    \"\"\"\n",
        "    Initialize prophet. Either with specified seasonalities or default.\n",
        "    Add regressors if any are entered.\n",
        "    \"\"\"\n",
        "    if add_seasonality:\n",
        "        if automatic:\n",
        "            model = Prophet(\n",
        "                daily_seasonality=True,\n",
        "                weekly_seasonality=True,\n",
        "                yearly_seasonality=True,\n",
        "            )\n",
        "        else:\n",
        "            model = Prophet(\n",
        "                daily_seasonality=False,\n",
        "                weekly_seasonality=fourier_weekly,\n",
        "                yearly_seasonality=fourier_annual,\n",
        "            )\n",
        "\n",
        "    else:\n",
        "        model = Prophet()\n",
        "\n",
        "    if len(regressors) > 0:\n",
        "        for regressor in regressors:\n",
        "            model.add_regressor(regressor)\n",
        "\n",
        "    return model\n",
        "\n",
        "\"\"\"\n",
        "Step 9: Feature engineering\n",
        "\n",
        "Combine the Prophet predictions with other relevant features (such as temperature, energy price) to create the feature set for the LSTM model.\n",
        "Scale the features if necessary to ensure that they have similar ranges.\n",
        "\"\"\"\n",
        "\n",
        "def combine_prophet_predictions_and_target(prophet_forecast, df_subset, prophet_columns_to_select, predictors_to_select):\n",
        "  \"\"\"\n",
        "  Combine the results from Prophet with the target LoadConsumption.\n",
        "  \"\"\"\n",
        "\n",
        "  df_subset['ds'] = pd.to_datetime(df_subset['ds'], format='%Y-%m-%d %H:%M:%S')\n",
        "  df_subset = df_subset[['ds', 'y']]\n",
        "\n",
        "  df_prophet = prophet_forecast.merge(df_subset, on='ds', how='left')\n",
        "  cols_to_select = predictors_to_select + prophet_columns_to_select\n",
        "  cols_to_select.append('y')\n",
        "  df_prophet_subset = df_prophet[cols_to_select]\n",
        "  # df_prophet_subset.set_index('ds', inplace=True)\n",
        "  df_prophet_subset.rename(columns={'y':'LoadConsumption'}, inplace=True)\n",
        "  return df_prophet_subset"
      ],
      "metadata": {
        "id": "lj6IT1yCEwXR"
      },
      "execution_count": 26,
      "outputs": []
    },
    {
      "cell_type": "markdown",
      "source": [
        "# LSTM"
      ],
      "metadata": {
        "id": "enJguockE1rs"
      }
    },
    {
      "cell_type": "code",
      "source": [
        "\"\"\"\n",
        "Step 10: LSTM model\n",
        "\n",
        "Define an LSTM architecture suitable for forecasting time series data.\n",
        "Split the training set into k folds for cross-validation.\n",
        "\"\"\"\n",
        "\n",
        "def fit_model(model, train_X, train_y, test_X, test_y, epochs, batch_size):\n",
        "  \"\"\"\n",
        "  Fit model and show plot of training process.\n",
        "  \"\"\"\n",
        "  history = model.fit(train_X, train_y, epochs=epochs, batch_size=batch_size, validation_data=(test_X, test_y), verbose=2, shuffle=False)\n",
        "\n",
        "  # plot history\n",
        "  plt.plot(history.history['loss'], label='train')\n",
        "  plt.plot(history.history['val_loss'], label='test')\n",
        "  plt.legend()\n",
        "  plt.show()\n",
        "\n",
        "  return model\n",
        "\n",
        "def inverse_transform_predictions(scaler, data, colName, colNames):\n",
        "  dummy = pd.DataFrame(np.zeros((len(data), len(colNames))), columns=colNames)\n",
        "  dummy[colName] = data\n",
        "  dummy = pd.DataFrame(scaler.inverse_transform(dummy), columns=colNames)\n",
        "  return dummy[colName].values\n",
        "\n",
        "\n",
        "def predict(model, test_X, scaler, df):\n",
        "  \"\"\"Make predictions and inverse them to scale them back\"\"\"\n",
        "\n",
        "  yhat = model.predict(test_X)\n",
        "\n",
        "  yhat_inversed = inverse_transform_predictions(scaler=scaler, data=yhat, colName='LoadConsumption_scaled', colNames=df.columns)\n",
        "\n",
        "  return yhat, yhat_inversed\n",
        "\n",
        "def evaluate_predictions(test_y, yhat_inversed, scaler, df):\n",
        "  test_y_inversed = inverse_transform_predictions(scaler=scaler, data=test_y, colName='LoadConsumption_scaled', colNames=df.columns)\n",
        "\n",
        "  mape = np.mean(np.abs((test_y_inversed - yhat_inversed) / test_y_inversed)) * 100\n",
        "  rmse = np.sqrt(mean_squared_error(test_y_inversed, yhat_inversed))\n",
        "  corr_test, p_value_test = pearsonr(test_y_inversed, yhat_inversed)\n",
        "  print(f'MAPE: {mape}')\n",
        "  print(f'RMSE: {rmse}')\n",
        "  print(f'Correlation {corr_test} with p-value {p_value_test}')\n",
        "\n",
        "  return mape, rmse, corr_test, p_value_test"
      ],
      "metadata": {
        "id": "OAZImP8-JLmG"
      },
      "execution_count": 27,
      "outputs": []
    },
    {
      "cell_type": "markdown",
      "source": [
        "# K-Fold Cross-Validation\n",
        "\n",
        "For each fold:\n",
        "1. Use the training portion of the data to train the LSTM model.\n",
        "2. Apply the trained LSTM model to make predictions on the validation portion of the data.\n",
        "3. Evaluate the performance of the model using appropriate metrics (e.g., RMSE, MAE) on the validation set.\n",
        "\n",
        "Aggregate the performance metrics across all folds to assess the overall performance of the combined Prophet-LSTM model.\n"
      ],
      "metadata": {
        "id": "VyxBrBBvE6gc"
      }
    },
    {
      "cell_type": "code",
      "source": [
        "def train_with_k_fold_cv(k_folds, df_lstm, train, test, huang, tan):\n",
        "  tscv = TimeSeriesSplit(n_splits=k_folds)\n",
        "\n",
        "  rmse_list = []\n",
        "  corr_list = []\n",
        "  mape_list = []\n",
        "\n",
        "  for train_idx, test_idx in tscv.split(df_lstm):\n",
        "    end_train_idx, start_test_idx = train_idx.max(), test_idx.min()\n",
        "    train, test = df_lstm.iloc[:end_train_idx,:], df_lstm.iloc[start_test_idx-1:,:]\n",
        "\n",
        "    train.set_index('ds', inplace=True)\n",
        "    test.set_index('ds', inplace=True)\n",
        "\n",
        "    # scale data\n",
        "    scaler = MinMaxScaler(feature_range=(0, 1))\n",
        "\n",
        "    train_scaled = scaler.fit_transform(train)\n",
        "    df_train_scaled = pd.DataFrame(train_scaled, columns=[i + \"_scaled\" for i in train.columns])\n",
        "\n",
        "    test_scaled = scaler.transform(test)\n",
        "    df_test_scaled = pd.DataFrame(test_scaled, columns=[i + \"_scaled\" for i in test.columns])\n",
        "\n",
        "    # reorder columns\n",
        "    cols_ordered = list(df_train_scaled)\n",
        "    cols_ordered.remove('LoadConsumption_scaled')\n",
        "    cols_ordered.append('LoadConsumption_scaled')\n",
        "    df_train_scaled = df_train_scaled[cols_ordered]\n",
        "    df_test_scaled = df_test_scaled[cols_ordered]\n",
        "\n",
        "    # split into X and y\n",
        "    train_values = df_train_scaled.values\n",
        "    test_values = df_test_scaled.values\n",
        "\n",
        "    train_X, train_y = train_values[:, :-1], train_values[:, -1]\n",
        "    test_X, test_y = test_values[:, :-1], test_values[:, -1]\n",
        "\n",
        "    train_X = train_X.reshape((train_X.shape[0], 1, train_X.shape[1]))\n",
        "    test_X = test_X.reshape((test_X.shape[0], 1, test_X.shape[1]))\n",
        "\n",
        "    # compile LSTM\n",
        "    if huang:\n",
        "      model = Sequential()\n",
        "      # probeer 30/90 25/75\n",
        "      # dropout minder features?\n",
        "      model.add(LSTM(50, activation='relu', return_sequences=True, input_shape=(train_X.shape[1], train_X.shape[2])))\n",
        "      model.add(LSTM(150, activation='relu'))\n",
        "      model.add(Dense(1))\n",
        "      model.compile(optimizer='adam', loss='mse')\n",
        "    if tan:\n",
        "      model = Sequential()\n",
        "      model.add(InputLayer(input_shape=(train_X.shape[1], train_X.shape[2]), name='Input_Layer'))\n",
        "      model.add(LSTM(30, activation='sigmoid', return_sequences=True, name='LSTM_Layer_1'))\n",
        "      model.add(Dropout(rate=0.2, name='Dropout_Layer_0.2'))\n",
        "      model.add(LSTM(60, activation='tanh', name='LSTM_Layer_2'))\n",
        "      model.add(Dropout(rate=0.3, name='Dropout_Layer_0.3'))\n",
        "      model.add(Dense(1, activation='linear', name='Dense_Layer'))\n",
        "      model.compile(optimizer='rmsprop', loss='mse')\n",
        "\n",
        "    # fit LSTM to fold\n",
        "    model = fit_model(model, train_X, train_y, test_X, test_y, epochs=8, batch_size=8)\n",
        "\n",
        "    # predict with LSTM to fold\n",
        "    yhat, yhat_inversed = predict(model, test_X, scaler, df=df_train_scaled)\n",
        "\n",
        "    # evaluate\n",
        "    mape, rmse, corr_test, p_value = evaluate_predictions(test_y, yhat_inversed, scaler, df_train_scaled)\n",
        "\n",
        "    mape_list.append(mape)\n",
        "    rmse_list.append(rmse)\n",
        "    corr_list.append([corr_test, p_value])\n",
        "\n",
        "  return mape_list, rmse_list, corr_list\n",
        "\n"
      ],
      "metadata": {
        "id": "zCxPkjTujQ8g"
      },
      "execution_count": 28,
      "outputs": []
    },
    {
      "cell_type": "code",
      "source": [
        "def run_setup(\n",
        "    n_predictors: int,\n",
        "    alpha: float,\n",
        "    use_top_n_predictors: bool,\n",
        "    use_all_predictors: bool,\n",
        "    use_no_predictors: bool,\n",
        "    known_features_list: list,\n",
        "    start_test_wintertime: datetime.datetime,\n",
        "    n_days_lag: int,\n",
        "    add_seasonality: bool,\n",
        "    fourier_weekly: Optional[int],\n",
        "    fourier_annual: Optional[int],\n",
        "    automatic: bool,\n",
        "    k_folds: int,\n",
        "    huang: bool,\n",
        "    tan: bool,\n",
        "    ):\n",
        "\n",
        "  df_train_prophet, df_test_prophet, predictors_list = preprocess_data(\n",
        "      n_predictors=n_predictors,\n",
        "      alpha=alpha,\n",
        "      use_top_n_predictors=use_top_n_predictors,\n",
        "      use_all_predictors=use_all_predictors,\n",
        "      use_no_predictors=use_no_predictors,\n",
        "      known_features_list=known_features_list,\n",
        "      start_test_wintertime=start_test_wintertime,\n",
        "      n_days_lag=n_days_lag\n",
        "  )\n",
        "\n",
        "  # intialize model\n",
        "  model = initialize_prophet(\n",
        "      regressors=predictors_list,\n",
        "      add_seasonality=add_seasonality,\n",
        "      fourier_weekly=fourier_weekly,\n",
        "      fourier_annual=fourier_annual,\n",
        "      automatic=automatic\n",
        "  )\n",
        "\n",
        "  # fit model\n",
        "  model.fit(df_train_prophet)\n",
        "\n",
        "  predictions_train_validation = model.predict(df_train_prophet)\n",
        "  predictions_wintertime = model.predict(df_test_prophet)\n",
        "\n",
        "  # combine predictions\n",
        "  df_lstm = combine_prophet_predictions_and_target(\n",
        "    prophet_forecast=predictions_train_validation,\n",
        "    df_subset=df_train_prophet,\n",
        "    prophet_columns_to_select=['trend', 'additive_terms', 'yearly', 'weekly', 'daily', 'yhat', 'ds'],\n",
        "    predictors_to_select=predictors_list\n",
        "  )\n",
        "\n",
        "  # # k fold cv\n",
        "  mape_list, rmse_list, corr_list = [], [], []\n",
        "  # mape_list, rmse_list, corr_list = train_with_k_fold_cv(\n",
        "  #     k_folds=k_folds,\n",
        "  #     df_lstm=df_lstm,\n",
        "  #     train=df_train_prophet,\n",
        "  #     test=df_test_prophet,\n",
        "  #     huang=huang,\n",
        "  #     tan=tan\n",
        "  # )\n",
        "\n",
        "  return mape_list, rmse_list, corr_list, predictions_wintertime, df_lstm, predictors_list, df_test_prophet"
      ],
      "metadata": {
        "id": "BkXsTEVTjxIr"
      },
      "execution_count": 29,
      "outputs": []
    },
    {
      "cell_type": "code",
      "source": [
        "from keras.callbacks import EarlyStopping\n",
        "\n",
        "def run_full_model(df_lstm, df_test_prophet, huang, tan, predictors_list):\n",
        "  df_lstm.set_index('ds', inplace=True)\n",
        "\n",
        "  # scale data\n",
        "  scaler = MinMaxScaler(feature_range=(0, 1))\n",
        "\n",
        "  train_scaled = scaler.fit_transform(df_lstm)\n",
        "  df_train_scaled = pd.DataFrame(train_scaled, columns=[i + \"_scaled\" for i in df_lstm.columns])\n",
        "\n",
        "  df_test = combine_prophet_predictions_and_target(\n",
        "      prophet_forecast=predictions_wintertime,\n",
        "      df_subset=df_test_prophet,\n",
        "      prophet_columns_to_select=['trend', 'additive_terms', 'yearly', 'weekly', 'daily', 'yhat', 'ds'],\n",
        "      predictors_to_select=predictors_list\n",
        "  )\n",
        "\n",
        "  df_test.set_index('ds', inplace=True)\n",
        "\n",
        "  df_test = df_test[df_lstm.columns]\n",
        "  test_scaled = scaler.transform(df_test)\n",
        "  df_test_scaled = pd.DataFrame(test_scaled, columns=[i + \"_scaled\" for i in df_test.columns])\n",
        "\n",
        "  # reorder columns\n",
        "  cols_ordered = list(df_train_scaled)\n",
        "  cols_ordered.remove('LoadConsumption_scaled')\n",
        "  cols_ordered.append('LoadConsumption_scaled')\n",
        "  df_train_scaled = df_train_scaled[cols_ordered]\n",
        "  df_test_scaled = df_test_scaled[cols_ordered]\n",
        "\n",
        "  # split into X and y\n",
        "  train_values = df_train_scaled.values\n",
        "  test_values = df_test_scaled.values\n",
        "\n",
        "  train_X, train_y = train_values[:, :-1], train_values[:, -1]\n",
        "  test_X, test_y = test_values[:, :-1], test_values[:, -1]\n",
        "\n",
        "  train_X = train_X.reshape((train_X.shape[0], 1, train_X.shape[1]))\n",
        "  test_X = test_X.reshape((test_X.shape[0], 1, test_X.shape[1]))\n",
        "\n",
        "\n",
        "  print(len(train_X), len(test_X))\n",
        "  # compile LSTM\n",
        "  if huang:\n",
        "    model = Sequential()\n",
        "    # probeer 30/90 25/75\n",
        "    # dropout minder features?\n",
        "    model.add(LSTM(50, activation='relu', return_sequences=True, input_shape=(train_X.shape[1], train_X.shape[2])))\n",
        "    model.add(LSTM(150, activation='relu'))\n",
        "    model.add(Dense(1))\n",
        "    model.compile(optimizer='adam', loss='mse')\n",
        "  if tan:\n",
        "    model = Sequential()\n",
        "    model.add(InputLayer(input_shape=(train_X.shape[1], train_X.shape[2]), name='Input_Layer'))\n",
        "    model.add(LSTM(30, activation='sigmoid', return_sequences=True, name='LSTM_Layer_1'))\n",
        "    model.add(Dropout(rate=0.2, name='Dropout_Layer_0.2'))\n",
        "    model.add(LSTM(60, activation='tanh', name='LSTM_Layer_2'))\n",
        "    model.add(Dropout(rate=0.3, name='Dropout_Layer_0.3'))\n",
        "    model.add(Dense(1, activation='linear', name='Dense_Layer'))\n",
        "    model.compile(optimizer='rmsprop', loss='mse')\n",
        "\n",
        "\n",
        "  # fit LSTM to fold\n",
        "  callback = EarlyStopping(monitor='loss',patience=3, start_from_epoch=10)\n",
        "  history = model.fit(train_X, train_y, epochs=100, batch_size=8, verbose=2, shuffle=False, callbacks=[callback])\n",
        "\n",
        "  # plot history\n",
        "  plt.plot(history.history['loss'], label='train')\n",
        "  # plt.plot(history.history['val_loss'], label='test')\n",
        "  plt.legend()\n",
        "  plt.show()\n",
        "\n",
        "  yhat, yhat_inversed = predict(model, test_X, scaler, df=df_train_scaled)\n",
        "\n",
        "  # evaluate\n",
        "  mape, rmse, corr_test, p_value = evaluate_predictions(test_y, yhat_inversed, scaler, df_train_scaled)\n",
        "\n",
        "  # return mape, rmse, corr_test, p_value, yhat_inversed, yhat"
      ],
      "metadata": {
        "id": "bSmDlDXu-pRN"
      },
      "execution_count": 42,
      "outputs": []
    },
    {
      "cell_type": "markdown",
      "source": [
        "# Set standard params"
      ],
      "metadata": {
        "id": "yJ9mE1QDAGat"
      }
    },
    {
      "cell_type": "code",
      "source": [
        "known_features_list = [\n",
        "      # 'Hour', 'Year', 'Week', 'WeekKey', 'Month',\n",
        "      # 'day_of_week_0', 'day_of_week_1', 'day_of_week_2', 'day_of_week_3',\n",
        "      # 'day_of_week_4', 'day_of_week_5', 'day_of_week_6',\n",
        "      'NationalHolidayFlag', 'SpecialEventFlag'\n",
        "  ]\n",
        "start_test_wintertime = datetime.datetime(2023, 12, 1, 0, 0, 0)\n",
        "n_predictors=5\n",
        "alpha=0.05\n",
        "use_top_n_predictors=True\n",
        "use_all_predictors=False\n",
        "use_no_predictors=False\n",
        "n_days_lag=60"
      ],
      "metadata": {
        "id": "ROJO2Sw2AFzc"
      },
      "execution_count": 44,
      "outputs": []
    },
    {
      "cell_type": "markdown",
      "source": [
        "# All predictors"
      ],
      "metadata": {
        "id": "udWdEZOB-qVG"
      }
    },
    {
      "cell_type": "markdown",
      "source": [
        "### Tan"
      ],
      "metadata": {
        "id": "nPUdAE02-wQB"
      }
    },
    {
      "cell_type": "code",
      "source": [
        "mape_list, rmse_list, corr_list, predictions_wintertime, df_lstm, predictors_list, df_test_prophet = run_setup(\n",
        "    n_predictors=n_predictors,\n",
        "    alpha=0.05,\n",
        "    use_top_n_predictors=False,\n",
        "    use_all_predictors=True,\n",
        "    use_no_predictors=False,\n",
        "    known_features_list=known_features_list,\n",
        "    start_test_wintertime=start_test_wintertime,\n",
        "    n_days_lag=n_days_lag,\n",
        "    add_seasonality=True,\n",
        "    fourier_weekly=1,\n",
        "    fourier_annual=1,\n",
        "    automatic=True,\n",
        "    k_folds=3,\n",
        "    huang=False,\n",
        "    tan=True\n",
        ")"
      ],
      "metadata": {
        "colab": {
          "base_uri": "https://localhost:8080/"
        },
        "id": "HwrrcWF4-_hw",
        "outputId": "25d643b6-b9e5-49a5-e8c8-461e7dd45c19"
      },
      "execution_count": 45,
      "outputs": [
        {
          "output_type": "stream",
          "name": "stdout",
          "text": [
            "All predictors are used\n",
            "                       ds           y  NationalHolidayFlag  SpecialEventFlag  \\\n",
            "0     2021-03-02 00:00:00  10937.0525                    0                 0   \n",
            "1     2021-03-02 01:00:00  10833.9750                    0                 0   \n",
            "2     2021-03-02 02:00:00  10807.7400                    0                 0   \n",
            "3     2021-03-02 03:00:00  10970.1925                    0                 0   \n",
            "4     2021-03-02 04:00:00  11400.2950                    0                 0   \n",
            "...                   ...         ...                  ...               ...   \n",
            "24097 2023-11-30 19:00:00  16063.3075                    0                 1   \n",
            "24098 2023-11-30 20:00:00  15370.1250                    0                 1   \n",
            "24099 2023-11-30 21:00:00  14699.8525                    0                 1   \n",
            "24100 2023-11-30 22:00:00  14109.4925                    0                 1   \n",
            "24101 2023-11-30 23:00:00  13508.1750                    0                 1   \n",
            "\n",
            "       DailyPrecipitation-60days  MaxHourlyPrecipitation-60days  \\\n",
            "0                            0.0                            0.0   \n",
            "1                            0.0                            0.0   \n",
            "2                            0.0                            0.0   \n",
            "3                            0.0                            0.0   \n",
            "4                            0.0                            0.0   \n",
            "...                          ...                            ...   \n",
            "24097                        0.0                            0.0   \n",
            "24098                        0.0                            0.0   \n",
            "24099                        0.0                            0.0   \n",
            "24100                        0.0                            0.0   \n",
            "24101                        0.0                            0.0   \n",
            "\n",
            "       HDMaxPrecipitation-60days  DailyMeanTemperature-60days  \\\n",
            "0                            1.0                          3.0   \n",
            "1                            1.0                          3.0   \n",
            "2                            1.0                          3.0   \n",
            "3                            1.0                          3.0   \n",
            "4                            1.0                          3.0   \n",
            "...                          ...                          ...   \n",
            "24097                        1.0                         17.6   \n",
            "24098                        1.0                         17.6   \n",
            "24099                        1.0                         17.6   \n",
            "24100                        1.0                         17.6   \n",
            "24101                        1.0                         17.6   \n",
            "\n",
            "       HourlyMinTemperature-60days  HDMinTemperature-60days  ...  \\\n",
            "0                            -35.0                      3.0  ...   \n",
            "1                            -35.0                      3.0  ...   \n",
            "2                            -35.0                      3.0  ...   \n",
            "3                            -35.0                      3.0  ...   \n",
            "4                            -35.0                      3.0  ...   \n",
            "...                            ...                      ...  ...   \n",
            "24097                        134.0                     23.0  ...   \n",
            "24098                        134.0                     23.0  ...   \n",
            "24099                        134.0                     23.0  ...   \n",
            "24100                        134.0                     23.0  ...   \n",
            "24101                        134.0                     23.0  ...   \n",
            "\n",
            "       HDMinMeanWindspeed-60days  NAO-60days  \\\n",
            "0                            1.0       -1.11   \n",
            "1                            1.0       -1.11   \n",
            "2                            1.0       -1.11   \n",
            "3                            1.0       -1.11   \n",
            "4                            1.0       -1.11   \n",
            "...                          ...         ...   \n",
            "24097                       19.0       -2.03   \n",
            "24098                       19.0       -2.03   \n",
            "24099                       19.0       -2.03   \n",
            "24100                       19.0       -2.03   \n",
            "24101                       19.0       -2.03   \n",
            "\n",
            "       Aardgas_Vast_leveringstarief_(Euro_jaar)-60days  \\\n",
            "0                                                67.48   \n",
            "1                                                67.48   \n",
            "2                                                67.48   \n",
            "3                                                67.48   \n",
            "4                                                67.48   \n",
            "...                                                ...   \n",
            "24097                                            75.13   \n",
            "24098                                            75.13   \n",
            "24099                                            75.13   \n",
            "24100                                            75.13   \n",
            "24101                                            75.13   \n",
            "\n",
            "       Aardgas_Variabel_leveringstarief_contractprijs_(Euro_m3)-60days  \\\n",
            "0                                                 0.2781                 \n",
            "1                                                 0.2781                 \n",
            "2                                                 0.2781                 \n",
            "3                                                 0.2781                 \n",
            "4                                                 0.2781                 \n",
            "...                                                  ...                 \n",
            "24097                                             0.6609                 \n",
            "24098                                             0.6609                 \n",
            "24099                                             0.6609                 \n",
            "24100                                             0.6609                 \n",
            "24101                                             0.6609                 \n",
            "\n",
            "       Elektriciteit_Vast_leveringstarief_(Euro_jaar)-60days  \\\n",
            "0                                                  67.49       \n",
            "1                                                  67.49       \n",
            "2                                                  67.49       \n",
            "3                                                  67.49       \n",
            "4                                                  67.49       \n",
            "...                                                  ...       \n",
            "24097                                              78.02       \n",
            "24098                                              78.02       \n",
            "24099                                              78.02       \n",
            "24100                                              78.02       \n",
            "24101                                              78.02       \n",
            "\n",
            "       Elektriciteit_Variabel_leveringstarief_contractprijs_(Euro_kWh)-60days  \\\n",
            "0                                                 0.0661                        \n",
            "1                                                 0.0661                        \n",
            "2                                                 0.0661                        \n",
            "3                                                 0.0661                        \n",
            "4                                                 0.0661                        \n",
            "...                                                  ...                        \n",
            "24097                                             0.1922                        \n",
            "24098                                             0.1922                        \n",
            "24099                                             0.1922                        \n",
            "24100                                             0.1922                        \n",
            "24101                                             0.1922                        \n",
            "\n",
            "       nat-60days    sic-60days  geopotential-60days  LoadConsumption-60days  \n",
            "0        0.558774  11911.245296         3.146514e+06              11313.1375  \n",
            "1        0.558774  11911.245296         3.146514e+06              10925.1475  \n",
            "2        0.558774  11911.245296         3.146514e+06              10576.8200  \n",
            "3        0.558774  11911.245296         3.146514e+06              10371.1225  \n",
            "4        0.558774  11911.245296         3.146514e+06              10420.2075  \n",
            "...           ...           ...                  ...                     ...  \n",
            "24097    1.050646   8053.888564         6.299577e+06              12641.4825  \n",
            "24098    1.050646   8053.888564         6.299577e+06              12091.3375  \n",
            "24099    1.050646   8053.888564         6.299577e+06              11434.7225  \n",
            "24100    1.050646   8053.888564         6.299577e+06              10516.5075  \n",
            "24101    1.050646   8053.888564         6.299577e+06              10033.4825  \n",
            "\n",
            "[24102 rows x 26 columns]\n",
            "All predictors are used\n"
          ]
        },
        {
          "output_type": "stream",
          "name": "stderr",
          "text": [
            "DEBUG:cmdstanpy:input tempfile: /tmp/tmpd26ms1ki/y2ismo6b.json\n",
            "DEBUG:cmdstanpy:input tempfile: /tmp/tmpd26ms1ki/t2vuqs0e.json\n",
            "DEBUG:cmdstanpy:idx 0\n",
            "DEBUG:cmdstanpy:running CmdStan, num_threads: None\n",
            "DEBUG:cmdstanpy:CmdStan args: ['/usr/local/lib/python3.10/dist-packages/prophet/stan_model/prophet_model.bin', 'random', 'seed=68871', 'data', 'file=/tmp/tmpd26ms1ki/y2ismo6b.json', 'init=/tmp/tmpd26ms1ki/t2vuqs0e.json', 'output', 'file=/tmp/tmpd26ms1ki/prophet_modelx_d92y8f/prophet_model-20240503085450.csv', 'method=optimize', 'algorithm=lbfgs', 'iter=10000']\n",
            "08:54:50 - cmdstanpy - INFO - Chain [1] start processing\n",
            "INFO:cmdstanpy:Chain [1] start processing\n",
            "08:55:32 - cmdstanpy - INFO - Chain [1] done processing\n",
            "INFO:cmdstanpy:Chain [1] done processing\n"
          ]
        }
      ]
    },
    {
      "cell_type": "code",
      "source": [
        "avg_rmse = sum(rmse_list) / len(rmse_list)\n",
        "print(f'avg rmse {avg_rmse}')\n",
        "\n",
        "corrs = [i[0] for i in corr_list]\n",
        "avg_corr = sum(corrs) / len(corrs)\n",
        "print(f'avg corr {avg_corr}')\n",
        "\n",
        "avg_mape = sum(mape_list) / len(mape_list)\n",
        "print(f'avg mape {avg_mape}')"
      ],
      "metadata": {
        "colab": {
          "base_uri": "https://localhost:8080/",
          "height": 216
        },
        "id": "A-2aLtsa_SHE",
        "outputId": "1bb3aff8-7e19-4601-b403-c5895b0567ea"
      },
      "execution_count": 15,
      "outputs": [
        {
          "output_type": "error",
          "ename": "ZeroDivisionError",
          "evalue": "division by zero",
          "traceback": [
            "\u001b[0;31m---------------------------------------------------------------------------\u001b[0m",
            "\u001b[0;31mZeroDivisionError\u001b[0m                         Traceback (most recent call last)",
            "\u001b[0;32m<ipython-input-15-3ffa31634160>\u001b[0m in \u001b[0;36m<cell line: 1>\u001b[0;34m()\u001b[0m\n\u001b[0;32m----> 1\u001b[0;31m \u001b[0mavg_rmse\u001b[0m \u001b[0;34m=\u001b[0m \u001b[0msum\u001b[0m\u001b[0;34m(\u001b[0m\u001b[0mrmse_list\u001b[0m\u001b[0;34m)\u001b[0m \u001b[0;34m/\u001b[0m \u001b[0mlen\u001b[0m\u001b[0;34m(\u001b[0m\u001b[0mrmse_list\u001b[0m\u001b[0;34m)\u001b[0m\u001b[0;34m\u001b[0m\u001b[0;34m\u001b[0m\u001b[0m\n\u001b[0m\u001b[1;32m      2\u001b[0m \u001b[0mprint\u001b[0m\u001b[0;34m(\u001b[0m\u001b[0;34mf'avg rmse {avg_rmse}'\u001b[0m\u001b[0;34m)\u001b[0m\u001b[0;34m\u001b[0m\u001b[0;34m\u001b[0m\u001b[0m\n\u001b[1;32m      3\u001b[0m \u001b[0;34m\u001b[0m\u001b[0m\n\u001b[1;32m      4\u001b[0m \u001b[0mcorrs\u001b[0m \u001b[0;34m=\u001b[0m \u001b[0;34m[\u001b[0m\u001b[0mi\u001b[0m\u001b[0;34m[\u001b[0m\u001b[0;36m0\u001b[0m\u001b[0;34m]\u001b[0m \u001b[0;32mfor\u001b[0m \u001b[0mi\u001b[0m \u001b[0;32min\u001b[0m \u001b[0mcorr_list\u001b[0m\u001b[0;34m]\u001b[0m\u001b[0;34m\u001b[0m\u001b[0;34m\u001b[0m\u001b[0m\n\u001b[1;32m      5\u001b[0m \u001b[0mavg_corr\u001b[0m \u001b[0;34m=\u001b[0m \u001b[0msum\u001b[0m\u001b[0;34m(\u001b[0m\u001b[0mcorrs\u001b[0m\u001b[0;34m)\u001b[0m \u001b[0;34m/\u001b[0m \u001b[0mlen\u001b[0m\u001b[0;34m(\u001b[0m\u001b[0mcorrs\u001b[0m\u001b[0;34m)\u001b[0m\u001b[0;34m\u001b[0m\u001b[0;34m\u001b[0m\u001b[0m\n",
            "\u001b[0;31mZeroDivisionError\u001b[0m: division by zero"
          ]
        }
      ]
    },
    {
      "cell_type": "code",
      "source": [
        "run_full_model(df_lstm=df_lstm, huang=False, tan=True, predictors_list=predictors_list, df_test_prophet=df_test_prophet)"
      ],
      "metadata": {
        "colab": {
          "base_uri": "https://localhost:8080/",
          "height": 329
        },
        "id": "B36MFRXB_U1C",
        "outputId": "827398c3-73a4-484d-d3f1-d1fb3b751af8"
      },
      "execution_count": 46,
      "outputs": [
        {
          "output_type": "stream",
          "name": "stdout",
          "text": [
            "24138 744\n",
            "Epoch 1/100\n"
          ]
        },
        {
          "output_type": "error",
          "ename": "KeyboardInterrupt",
          "evalue": "",
          "traceback": [
            "\u001b[0;31m---------------------------------------------------------------------------\u001b[0m",
            "\u001b[0;31mKeyboardInterrupt\u001b[0m                         Traceback (most recent call last)",
            "\u001b[0;32m<ipython-input-46-6524378956e1>\u001b[0m in \u001b[0;36m<cell line: 1>\u001b[0;34m()\u001b[0m\n\u001b[0;32m----> 1\u001b[0;31m \u001b[0mrun_full_model\u001b[0m\u001b[0;34m(\u001b[0m\u001b[0mdf_lstm\u001b[0m\u001b[0;34m=\u001b[0m\u001b[0mdf_lstm\u001b[0m\u001b[0;34m,\u001b[0m \u001b[0mhuang\u001b[0m\u001b[0;34m=\u001b[0m\u001b[0;32mFalse\u001b[0m\u001b[0;34m,\u001b[0m \u001b[0mtan\u001b[0m\u001b[0;34m=\u001b[0m\u001b[0;32mTrue\u001b[0m\u001b[0;34m,\u001b[0m \u001b[0mpredictors_list\u001b[0m\u001b[0;34m=\u001b[0m\u001b[0mpredictors_list\u001b[0m\u001b[0;34m,\u001b[0m \u001b[0mdf_test_prophet\u001b[0m\u001b[0;34m=\u001b[0m\u001b[0mdf_test_prophet\u001b[0m\u001b[0;34m)\u001b[0m\u001b[0;34m\u001b[0m\u001b[0;34m\u001b[0m\u001b[0m\n\u001b[0m",
            "\u001b[0;32m<ipython-input-42-f1f3c86e8d20>\u001b[0m in \u001b[0;36mrun_full_model\u001b[0;34m(df_lstm, df_test_prophet, huang, tan, predictors_list)\u001b[0m\n\u001b[1;32m     64\u001b[0m   \u001b[0;31m# fit LSTM to fold\u001b[0m\u001b[0;34m\u001b[0m\u001b[0;34m\u001b[0m\u001b[0m\n\u001b[1;32m     65\u001b[0m   \u001b[0mcallback\u001b[0m \u001b[0;34m=\u001b[0m \u001b[0mEarlyStopping\u001b[0m\u001b[0;34m(\u001b[0m\u001b[0mmonitor\u001b[0m\u001b[0;34m=\u001b[0m\u001b[0;34m'loss'\u001b[0m\u001b[0;34m,\u001b[0m\u001b[0mpatience\u001b[0m\u001b[0;34m=\u001b[0m\u001b[0;36m3\u001b[0m\u001b[0;34m,\u001b[0m \u001b[0mstart_from_epoch\u001b[0m\u001b[0;34m=\u001b[0m\u001b[0;36m10\u001b[0m\u001b[0;34m)\u001b[0m\u001b[0;34m\u001b[0m\u001b[0;34m\u001b[0m\u001b[0m\n\u001b[0;32m---> 66\u001b[0;31m   \u001b[0mhistory\u001b[0m \u001b[0;34m=\u001b[0m \u001b[0mmodel\u001b[0m\u001b[0;34m.\u001b[0m\u001b[0mfit\u001b[0m\u001b[0;34m(\u001b[0m\u001b[0mtrain_X\u001b[0m\u001b[0;34m,\u001b[0m \u001b[0mtrain_y\u001b[0m\u001b[0;34m,\u001b[0m \u001b[0mepochs\u001b[0m\u001b[0;34m=\u001b[0m\u001b[0;36m100\u001b[0m\u001b[0;34m,\u001b[0m \u001b[0mbatch_size\u001b[0m\u001b[0;34m=\u001b[0m\u001b[0;36m8\u001b[0m\u001b[0;34m,\u001b[0m \u001b[0mverbose\u001b[0m\u001b[0;34m=\u001b[0m\u001b[0;36m2\u001b[0m\u001b[0;34m,\u001b[0m \u001b[0mshuffle\u001b[0m\u001b[0;34m=\u001b[0m\u001b[0;32mFalse\u001b[0m\u001b[0;34m,\u001b[0m \u001b[0mcallbacks\u001b[0m\u001b[0;34m=\u001b[0m\u001b[0;34m[\u001b[0m\u001b[0mcallback\u001b[0m\u001b[0;34m]\u001b[0m\u001b[0;34m)\u001b[0m\u001b[0;34m\u001b[0m\u001b[0;34m\u001b[0m\u001b[0m\n\u001b[0m\u001b[1;32m     67\u001b[0m \u001b[0;34m\u001b[0m\u001b[0m\n\u001b[1;32m     68\u001b[0m   \u001b[0;31m# plot history\u001b[0m\u001b[0;34m\u001b[0m\u001b[0;34m\u001b[0m\u001b[0m\n",
            "\u001b[0;32m/usr/local/lib/python3.10/dist-packages/keras/src/utils/traceback_utils.py\u001b[0m in \u001b[0;36merror_handler\u001b[0;34m(*args, **kwargs)\u001b[0m\n\u001b[1;32m     63\u001b[0m         \u001b[0mfiltered_tb\u001b[0m \u001b[0;34m=\u001b[0m \u001b[0;32mNone\u001b[0m\u001b[0;34m\u001b[0m\u001b[0;34m\u001b[0m\u001b[0m\n\u001b[1;32m     64\u001b[0m         \u001b[0;32mtry\u001b[0m\u001b[0;34m:\u001b[0m\u001b[0;34m\u001b[0m\u001b[0;34m\u001b[0m\u001b[0m\n\u001b[0;32m---> 65\u001b[0;31m             \u001b[0;32mreturn\u001b[0m \u001b[0mfn\u001b[0m\u001b[0;34m(\u001b[0m\u001b[0;34m*\u001b[0m\u001b[0margs\u001b[0m\u001b[0;34m,\u001b[0m \u001b[0;34m**\u001b[0m\u001b[0mkwargs\u001b[0m\u001b[0;34m)\u001b[0m\u001b[0;34m\u001b[0m\u001b[0;34m\u001b[0m\u001b[0m\n\u001b[0m\u001b[1;32m     66\u001b[0m         \u001b[0;32mexcept\u001b[0m \u001b[0mException\u001b[0m \u001b[0;32mas\u001b[0m \u001b[0me\u001b[0m\u001b[0;34m:\u001b[0m\u001b[0;34m\u001b[0m\u001b[0;34m\u001b[0m\u001b[0m\n\u001b[1;32m     67\u001b[0m             \u001b[0mfiltered_tb\u001b[0m \u001b[0;34m=\u001b[0m \u001b[0m_process_traceback_frames\u001b[0m\u001b[0;34m(\u001b[0m\u001b[0me\u001b[0m\u001b[0;34m.\u001b[0m\u001b[0m__traceback__\u001b[0m\u001b[0;34m)\u001b[0m\u001b[0;34m\u001b[0m\u001b[0;34m\u001b[0m\u001b[0m\n",
            "\u001b[0;32m/usr/local/lib/python3.10/dist-packages/keras/src/engine/training.py\u001b[0m in \u001b[0;36mfit\u001b[0;34m(self, x, y, batch_size, epochs, verbose, callbacks, validation_split, validation_data, shuffle, class_weight, sample_weight, initial_epoch, steps_per_epoch, validation_steps, validation_batch_size, validation_freq, max_queue_size, workers, use_multiprocessing)\u001b[0m\n\u001b[1;32m   1805\u001b[0m                         ):\n\u001b[1;32m   1806\u001b[0m                             \u001b[0mcallbacks\u001b[0m\u001b[0;34m.\u001b[0m\u001b[0mon_train_batch_begin\u001b[0m\u001b[0;34m(\u001b[0m\u001b[0mstep\u001b[0m\u001b[0;34m)\u001b[0m\u001b[0;34m\u001b[0m\u001b[0;34m\u001b[0m\u001b[0m\n\u001b[0;32m-> 1807\u001b[0;31m                             \u001b[0mtmp_logs\u001b[0m \u001b[0;34m=\u001b[0m \u001b[0mself\u001b[0m\u001b[0;34m.\u001b[0m\u001b[0mtrain_function\u001b[0m\u001b[0;34m(\u001b[0m\u001b[0miterator\u001b[0m\u001b[0;34m)\u001b[0m\u001b[0;34m\u001b[0m\u001b[0;34m\u001b[0m\u001b[0m\n\u001b[0m\u001b[1;32m   1808\u001b[0m                             \u001b[0;32mif\u001b[0m \u001b[0mdata_handler\u001b[0m\u001b[0;34m.\u001b[0m\u001b[0mshould_sync\u001b[0m\u001b[0;34m:\u001b[0m\u001b[0;34m\u001b[0m\u001b[0;34m\u001b[0m\u001b[0m\n\u001b[1;32m   1809\u001b[0m                                 \u001b[0mcontext\u001b[0m\u001b[0;34m.\u001b[0m\u001b[0masync_wait\u001b[0m\u001b[0;34m(\u001b[0m\u001b[0;34m)\u001b[0m\u001b[0;34m\u001b[0m\u001b[0;34m\u001b[0m\u001b[0m\n",
            "\u001b[0;32m/usr/local/lib/python3.10/dist-packages/tensorflow/python/util/traceback_utils.py\u001b[0m in \u001b[0;36merror_handler\u001b[0;34m(*args, **kwargs)\u001b[0m\n\u001b[1;32m    148\u001b[0m     \u001b[0mfiltered_tb\u001b[0m \u001b[0;34m=\u001b[0m \u001b[0;32mNone\u001b[0m\u001b[0;34m\u001b[0m\u001b[0;34m\u001b[0m\u001b[0m\n\u001b[1;32m    149\u001b[0m     \u001b[0;32mtry\u001b[0m\u001b[0;34m:\u001b[0m\u001b[0;34m\u001b[0m\u001b[0;34m\u001b[0m\u001b[0m\n\u001b[0;32m--> 150\u001b[0;31m       \u001b[0;32mreturn\u001b[0m \u001b[0mfn\u001b[0m\u001b[0;34m(\u001b[0m\u001b[0;34m*\u001b[0m\u001b[0margs\u001b[0m\u001b[0;34m,\u001b[0m \u001b[0;34m**\u001b[0m\u001b[0mkwargs\u001b[0m\u001b[0;34m)\u001b[0m\u001b[0;34m\u001b[0m\u001b[0;34m\u001b[0m\u001b[0m\n\u001b[0m\u001b[1;32m    151\u001b[0m     \u001b[0;32mexcept\u001b[0m \u001b[0mException\u001b[0m \u001b[0;32mas\u001b[0m \u001b[0me\u001b[0m\u001b[0;34m:\u001b[0m\u001b[0;34m\u001b[0m\u001b[0;34m\u001b[0m\u001b[0m\n\u001b[1;32m    152\u001b[0m       \u001b[0mfiltered_tb\u001b[0m \u001b[0;34m=\u001b[0m \u001b[0m_process_traceback_frames\u001b[0m\u001b[0;34m(\u001b[0m\u001b[0me\u001b[0m\u001b[0;34m.\u001b[0m\u001b[0m__traceback__\u001b[0m\u001b[0;34m)\u001b[0m\u001b[0;34m\u001b[0m\u001b[0;34m\u001b[0m\u001b[0m\n",
            "\u001b[0;32m/usr/local/lib/python3.10/dist-packages/tensorflow/python/eager/polymorphic_function/polymorphic_function.py\u001b[0m in \u001b[0;36m__call__\u001b[0;34m(self, *args, **kwds)\u001b[0m\n\u001b[1;32m    830\u001b[0m \u001b[0;34m\u001b[0m\u001b[0m\n\u001b[1;32m    831\u001b[0m       \u001b[0;32mwith\u001b[0m \u001b[0mOptionalXlaContext\u001b[0m\u001b[0;34m(\u001b[0m\u001b[0mself\u001b[0m\u001b[0;34m.\u001b[0m\u001b[0m_jit_compile\u001b[0m\u001b[0;34m)\u001b[0m\u001b[0;34m:\u001b[0m\u001b[0;34m\u001b[0m\u001b[0;34m\u001b[0m\u001b[0m\n\u001b[0;32m--> 832\u001b[0;31m         \u001b[0mresult\u001b[0m \u001b[0;34m=\u001b[0m \u001b[0mself\u001b[0m\u001b[0;34m.\u001b[0m\u001b[0m_call\u001b[0m\u001b[0;34m(\u001b[0m\u001b[0;34m*\u001b[0m\u001b[0margs\u001b[0m\u001b[0;34m,\u001b[0m \u001b[0;34m**\u001b[0m\u001b[0mkwds\u001b[0m\u001b[0;34m)\u001b[0m\u001b[0;34m\u001b[0m\u001b[0;34m\u001b[0m\u001b[0m\n\u001b[0m\u001b[1;32m    833\u001b[0m \u001b[0;34m\u001b[0m\u001b[0m\n\u001b[1;32m    834\u001b[0m       \u001b[0mnew_tracing_count\u001b[0m \u001b[0;34m=\u001b[0m \u001b[0mself\u001b[0m\u001b[0;34m.\u001b[0m\u001b[0mexperimental_get_tracing_count\u001b[0m\u001b[0;34m(\u001b[0m\u001b[0;34m)\u001b[0m\u001b[0;34m\u001b[0m\u001b[0;34m\u001b[0m\u001b[0m\n",
            "\u001b[0;32m/usr/local/lib/python3.10/dist-packages/tensorflow/python/eager/polymorphic_function/polymorphic_function.py\u001b[0m in \u001b[0;36m_call\u001b[0;34m(self, *args, **kwds)\u001b[0m\n\u001b[1;32m    866\u001b[0m       \u001b[0;31m# In this case we have created variables on the first call, so we run the\u001b[0m\u001b[0;34m\u001b[0m\u001b[0;34m\u001b[0m\u001b[0m\n\u001b[1;32m    867\u001b[0m       \u001b[0;31m# defunned version which is guaranteed to never create variables.\u001b[0m\u001b[0;34m\u001b[0m\u001b[0;34m\u001b[0m\u001b[0m\n\u001b[0;32m--> 868\u001b[0;31m       return tracing_compilation.call_function(\n\u001b[0m\u001b[1;32m    869\u001b[0m           \u001b[0margs\u001b[0m\u001b[0;34m,\u001b[0m \u001b[0mkwds\u001b[0m\u001b[0;34m,\u001b[0m \u001b[0mself\u001b[0m\u001b[0;34m.\u001b[0m\u001b[0m_no_variable_creation_config\u001b[0m\u001b[0;34m\u001b[0m\u001b[0;34m\u001b[0m\u001b[0m\n\u001b[1;32m    870\u001b[0m       )\n",
            "\u001b[0;32m/usr/local/lib/python3.10/dist-packages/tensorflow/python/eager/polymorphic_function/tracing_compilation.py\u001b[0m in \u001b[0;36mcall_function\u001b[0;34m(args, kwargs, tracing_options)\u001b[0m\n\u001b[1;32m    137\u001b[0m   \u001b[0mbound_args\u001b[0m \u001b[0;34m=\u001b[0m \u001b[0mfunction\u001b[0m\u001b[0;34m.\u001b[0m\u001b[0mfunction_type\u001b[0m\u001b[0;34m.\u001b[0m\u001b[0mbind\u001b[0m\u001b[0;34m(\u001b[0m\u001b[0;34m*\u001b[0m\u001b[0margs\u001b[0m\u001b[0;34m,\u001b[0m \u001b[0;34m**\u001b[0m\u001b[0mkwargs\u001b[0m\u001b[0;34m)\u001b[0m\u001b[0;34m\u001b[0m\u001b[0;34m\u001b[0m\u001b[0m\n\u001b[1;32m    138\u001b[0m   \u001b[0mflat_inputs\u001b[0m \u001b[0;34m=\u001b[0m \u001b[0mfunction\u001b[0m\u001b[0;34m.\u001b[0m\u001b[0mfunction_type\u001b[0m\u001b[0;34m.\u001b[0m\u001b[0munpack_inputs\u001b[0m\u001b[0;34m(\u001b[0m\u001b[0mbound_args\u001b[0m\u001b[0;34m)\u001b[0m\u001b[0;34m\u001b[0m\u001b[0;34m\u001b[0m\u001b[0m\n\u001b[0;32m--> 139\u001b[0;31m   return function._call_flat(  # pylint: disable=protected-access\n\u001b[0m\u001b[1;32m    140\u001b[0m       \u001b[0mflat_inputs\u001b[0m\u001b[0;34m,\u001b[0m \u001b[0mcaptured_inputs\u001b[0m\u001b[0;34m=\u001b[0m\u001b[0mfunction\u001b[0m\u001b[0;34m.\u001b[0m\u001b[0mcaptured_inputs\u001b[0m\u001b[0;34m\u001b[0m\u001b[0;34m\u001b[0m\u001b[0m\n\u001b[1;32m    141\u001b[0m   )\n",
            "\u001b[0;32m/usr/local/lib/python3.10/dist-packages/tensorflow/python/eager/polymorphic_function/concrete_function.py\u001b[0m in \u001b[0;36m_call_flat\u001b[0;34m(self, tensor_inputs, captured_inputs)\u001b[0m\n\u001b[1;32m   1321\u001b[0m         and executing_eagerly):\n\u001b[1;32m   1322\u001b[0m       \u001b[0;31m# No tape is watching; skip to running the function.\u001b[0m\u001b[0;34m\u001b[0m\u001b[0;34m\u001b[0m\u001b[0m\n\u001b[0;32m-> 1323\u001b[0;31m       \u001b[0;32mreturn\u001b[0m \u001b[0mself\u001b[0m\u001b[0;34m.\u001b[0m\u001b[0m_inference_function\u001b[0m\u001b[0;34m.\u001b[0m\u001b[0mcall_preflattened\u001b[0m\u001b[0;34m(\u001b[0m\u001b[0margs\u001b[0m\u001b[0;34m)\u001b[0m\u001b[0;34m\u001b[0m\u001b[0;34m\u001b[0m\u001b[0m\n\u001b[0m\u001b[1;32m   1324\u001b[0m     forward_backward = self._select_forward_and_backward_functions(\n\u001b[1;32m   1325\u001b[0m         \u001b[0margs\u001b[0m\u001b[0;34m,\u001b[0m\u001b[0;34m\u001b[0m\u001b[0;34m\u001b[0m\u001b[0m\n",
            "\u001b[0;32m/usr/local/lib/python3.10/dist-packages/tensorflow/python/eager/polymorphic_function/atomic_function.py\u001b[0m in \u001b[0;36mcall_preflattened\u001b[0;34m(self, args)\u001b[0m\n\u001b[1;32m    214\u001b[0m   \u001b[0;32mdef\u001b[0m \u001b[0mcall_preflattened\u001b[0m\u001b[0;34m(\u001b[0m\u001b[0mself\u001b[0m\u001b[0;34m,\u001b[0m \u001b[0margs\u001b[0m\u001b[0;34m:\u001b[0m \u001b[0mSequence\u001b[0m\u001b[0;34m[\u001b[0m\u001b[0mcore\u001b[0m\u001b[0;34m.\u001b[0m\u001b[0mTensor\u001b[0m\u001b[0;34m]\u001b[0m\u001b[0;34m)\u001b[0m \u001b[0;34m->\u001b[0m \u001b[0mAny\u001b[0m\u001b[0;34m:\u001b[0m\u001b[0;34m\u001b[0m\u001b[0;34m\u001b[0m\u001b[0m\n\u001b[1;32m    215\u001b[0m     \u001b[0;34m\"\"\"Calls with flattened tensor inputs and returns the structured output.\"\"\"\u001b[0m\u001b[0;34m\u001b[0m\u001b[0;34m\u001b[0m\u001b[0m\n\u001b[0;32m--> 216\u001b[0;31m     \u001b[0mflat_outputs\u001b[0m \u001b[0;34m=\u001b[0m \u001b[0mself\u001b[0m\u001b[0;34m.\u001b[0m\u001b[0mcall_flat\u001b[0m\u001b[0;34m(\u001b[0m\u001b[0;34m*\u001b[0m\u001b[0margs\u001b[0m\u001b[0;34m)\u001b[0m\u001b[0;34m\u001b[0m\u001b[0;34m\u001b[0m\u001b[0m\n\u001b[0m\u001b[1;32m    217\u001b[0m     \u001b[0;32mreturn\u001b[0m \u001b[0mself\u001b[0m\u001b[0;34m.\u001b[0m\u001b[0mfunction_type\u001b[0m\u001b[0;34m.\u001b[0m\u001b[0mpack_output\u001b[0m\u001b[0;34m(\u001b[0m\u001b[0mflat_outputs\u001b[0m\u001b[0;34m)\u001b[0m\u001b[0;34m\u001b[0m\u001b[0;34m\u001b[0m\u001b[0m\n\u001b[1;32m    218\u001b[0m \u001b[0;34m\u001b[0m\u001b[0m\n",
            "\u001b[0;32m/usr/local/lib/python3.10/dist-packages/tensorflow/python/eager/polymorphic_function/atomic_function.py\u001b[0m in \u001b[0;36mcall_flat\u001b[0;34m(self, *args)\u001b[0m\n\u001b[1;32m    249\u001b[0m         \u001b[0;32mwith\u001b[0m \u001b[0mrecord\u001b[0m\u001b[0;34m.\u001b[0m\u001b[0mstop_recording\u001b[0m\u001b[0;34m(\u001b[0m\u001b[0;34m)\u001b[0m\u001b[0;34m:\u001b[0m\u001b[0;34m\u001b[0m\u001b[0;34m\u001b[0m\u001b[0m\n\u001b[1;32m    250\u001b[0m           \u001b[0;32mif\u001b[0m \u001b[0mself\u001b[0m\u001b[0;34m.\u001b[0m\u001b[0m_bound_context\u001b[0m\u001b[0;34m.\u001b[0m\u001b[0mexecuting_eagerly\u001b[0m\u001b[0;34m(\u001b[0m\u001b[0;34m)\u001b[0m\u001b[0;34m:\u001b[0m\u001b[0;34m\u001b[0m\u001b[0;34m\u001b[0m\u001b[0m\n\u001b[0;32m--> 251\u001b[0;31m             outputs = self._bound_context.call_function(\n\u001b[0m\u001b[1;32m    252\u001b[0m                 \u001b[0mself\u001b[0m\u001b[0;34m.\u001b[0m\u001b[0mname\u001b[0m\u001b[0;34m,\u001b[0m\u001b[0;34m\u001b[0m\u001b[0;34m\u001b[0m\u001b[0m\n\u001b[1;32m    253\u001b[0m                 \u001b[0mlist\u001b[0m\u001b[0;34m(\u001b[0m\u001b[0margs\u001b[0m\u001b[0;34m)\u001b[0m\u001b[0;34m,\u001b[0m\u001b[0;34m\u001b[0m\u001b[0;34m\u001b[0m\u001b[0m\n",
            "\u001b[0;32m/usr/local/lib/python3.10/dist-packages/tensorflow/python/eager/context.py\u001b[0m in \u001b[0;36mcall_function\u001b[0;34m(self, name, tensor_inputs, num_outputs)\u001b[0m\n\u001b[1;32m   1484\u001b[0m     \u001b[0mcancellation_context\u001b[0m \u001b[0;34m=\u001b[0m \u001b[0mcancellation\u001b[0m\u001b[0;34m.\u001b[0m\u001b[0mcontext\u001b[0m\u001b[0;34m(\u001b[0m\u001b[0;34m)\u001b[0m\u001b[0;34m\u001b[0m\u001b[0;34m\u001b[0m\u001b[0m\n\u001b[1;32m   1485\u001b[0m     \u001b[0;32mif\u001b[0m \u001b[0mcancellation_context\u001b[0m \u001b[0;32mis\u001b[0m \u001b[0;32mNone\u001b[0m\u001b[0;34m:\u001b[0m\u001b[0;34m\u001b[0m\u001b[0;34m\u001b[0m\u001b[0m\n\u001b[0;32m-> 1486\u001b[0;31m       outputs = execute.execute(\n\u001b[0m\u001b[1;32m   1487\u001b[0m           \u001b[0mname\u001b[0m\u001b[0;34m.\u001b[0m\u001b[0mdecode\u001b[0m\u001b[0;34m(\u001b[0m\u001b[0;34m\"utf-8\"\u001b[0m\u001b[0;34m)\u001b[0m\u001b[0;34m,\u001b[0m\u001b[0;34m\u001b[0m\u001b[0;34m\u001b[0m\u001b[0m\n\u001b[1;32m   1488\u001b[0m           \u001b[0mnum_outputs\u001b[0m\u001b[0;34m=\u001b[0m\u001b[0mnum_outputs\u001b[0m\u001b[0;34m,\u001b[0m\u001b[0;34m\u001b[0m\u001b[0;34m\u001b[0m\u001b[0m\n",
            "\u001b[0;32m/usr/local/lib/python3.10/dist-packages/tensorflow/python/eager/execute.py\u001b[0m in \u001b[0;36mquick_execute\u001b[0;34m(op_name, num_outputs, inputs, attrs, ctx, name)\u001b[0m\n\u001b[1;32m     51\u001b[0m   \u001b[0;32mtry\u001b[0m\u001b[0;34m:\u001b[0m\u001b[0;34m\u001b[0m\u001b[0;34m\u001b[0m\u001b[0m\n\u001b[1;32m     52\u001b[0m     \u001b[0mctx\u001b[0m\u001b[0;34m.\u001b[0m\u001b[0mensure_initialized\u001b[0m\u001b[0;34m(\u001b[0m\u001b[0;34m)\u001b[0m\u001b[0;34m\u001b[0m\u001b[0;34m\u001b[0m\u001b[0m\n\u001b[0;32m---> 53\u001b[0;31m     tensors = pywrap_tfe.TFE_Py_Execute(ctx._handle, device_name, op_name,\n\u001b[0m\u001b[1;32m     54\u001b[0m                                         inputs, attrs, num_outputs)\n\u001b[1;32m     55\u001b[0m   \u001b[0;32mexcept\u001b[0m \u001b[0mcore\u001b[0m\u001b[0;34m.\u001b[0m\u001b[0m_NotOkStatusException\u001b[0m \u001b[0;32mas\u001b[0m \u001b[0me\u001b[0m\u001b[0;34m:\u001b[0m\u001b[0;34m\u001b[0m\u001b[0;34m\u001b[0m\u001b[0m\n",
            "\u001b[0;31mKeyboardInterrupt\u001b[0m: "
          ]
        }
      ]
    },
    {
      "cell_type": "markdown",
      "source": [
        "### Huang"
      ],
      "metadata": {
        "id": "4xM4CZEf-xXU"
      }
    },
    {
      "cell_type": "code",
      "source": [
        "mape_list, rmse_list, corr_list, predictions_wintertime, df_lstm, predictors_list, df_test_prophet = run_setup(\n",
        "    n_predictors=n_predictors,\n",
        "    alpha=0.05,\n",
        "    use_top_n_predictors=False,\n",
        "    use_all_predictors=True,\n",
        "    use_no_predictors=False,\n",
        "    known_features_list=known_features_list,\n",
        "    start_test_wintertime=start_test_wintertime,\n",
        "    n_days_lag=n_days_lag,\n",
        "    add_seasonality=True,\n",
        "    fourier_weekly=1,\n",
        "    fourier_annual=1,\n",
        "    automatic=True,\n",
        "    k_folds=3,\n",
        "    huang=True,\n",
        "    tan=False\n",
        ")"
      ],
      "metadata": {
        "colab": {
          "base_uri": "https://localhost:8080/"
        },
        "id": "tAbthL2N-_8v",
        "outputId": "d1efc301-bdcc-49e5-ece6-b17eb3506b1f"
      },
      "execution_count": 17,
      "outputs": [
        {
          "output_type": "stream",
          "name": "stdout",
          "text": [
            "All predictors are used\n",
            "All predictors are used\n"
          ]
        },
        {
          "output_type": "stream",
          "name": "stderr",
          "text": [
            "DEBUG:cmdstanpy:input tempfile: /tmp/tmpd26ms1ki/2l5r8cxx.json\n",
            "DEBUG:cmdstanpy:input tempfile: /tmp/tmpd26ms1ki/xmengj_5.json\n",
            "DEBUG:cmdstanpy:idx 0\n",
            "DEBUG:cmdstanpy:running CmdStan, num_threads: None\n",
            "DEBUG:cmdstanpy:CmdStan args: ['/usr/local/lib/python3.10/dist-packages/prophet/stan_model/prophet_model.bin', 'random', 'seed=174', 'data', 'file=/tmp/tmpd26ms1ki/2l5r8cxx.json', 'init=/tmp/tmpd26ms1ki/xmengj_5.json', 'output', 'file=/tmp/tmpd26ms1ki/prophet_modelgb437r2f/prophet_model-20240503070917.csv', 'method=optimize', 'algorithm=lbfgs', 'iter=10000']\n",
            "07:09:17 - cmdstanpy - INFO - Chain [1] start processing\n",
            "INFO:cmdstanpy:Chain [1] start processing\n",
            "07:09:58 - cmdstanpy - INFO - Chain [1] done processing\n",
            "INFO:cmdstanpy:Chain [1] done processing\n"
          ]
        }
      ]
    },
    {
      "cell_type": "code",
      "source": [
        "avg_rmse = sum(rmse_list) / len(rmse_list)\n",
        "print(f'avg rmse {avg_rmse}')\n",
        "\n",
        "corrs = [i[0] for i in corr_list]\n",
        "avg_corr = sum(corrs) / len(corrs)\n",
        "print(f'avg corr {avg_corr}')\n",
        "\n",
        "avg_mape = sum(mape_list) / len(mape_list)\n",
        "print(f'avg mape {avg_mape}')"
      ],
      "metadata": {
        "id": "Z0GUdpjn_Rq8"
      },
      "execution_count": null,
      "outputs": []
    },
    {
      "cell_type": "code",
      "source": [
        "run_full_model(df_lstm=df_lstm, huang=True, tan=False, predictors_list=predictors_list, df_test_prophet=df_test_prophet)"
      ],
      "metadata": {
        "colab": {
          "base_uri": "https://localhost:8080/",
          "height": 1000
        },
        "id": "1w64IBsA_b0D",
        "outputId": "fb4a626c-df0c-42fe-ea58-e71a154ff290"
      },
      "execution_count": 18,
      "outputs": [
        {
          "output_type": "stream",
          "name": "stdout",
          "text": [
            "Epoch 1/100\n",
            "3018/3018 - 15s - loss: 0.0118 - 15s/epoch - 5ms/step\n",
            "Epoch 2/100\n",
            "3018/3018 - 14s - loss: 0.0090 - 14s/epoch - 5ms/step\n",
            "Epoch 3/100\n",
            "3018/3018 - 11s - loss: 0.0084 - 11s/epoch - 4ms/step\n",
            "Epoch 4/100\n",
            "3018/3018 - 12s - loss: 0.0082 - 12s/epoch - 4ms/step\n",
            "Epoch 5/100\n",
            "3018/3018 - 12s - loss: 0.0081 - 12s/epoch - 4ms/step\n",
            "Epoch 6/100\n",
            "3018/3018 - 12s - loss: 0.0080 - 12s/epoch - 4ms/step\n",
            "Epoch 7/100\n",
            "3018/3018 - 12s - loss: 0.0079 - 12s/epoch - 4ms/step\n",
            "Epoch 8/100\n",
            "3018/3018 - 12s - loss: 0.0078 - 12s/epoch - 4ms/step\n",
            "Epoch 9/100\n",
            "3018/3018 - 13s - loss: 0.0078 - 13s/epoch - 4ms/step\n",
            "Epoch 10/100\n",
            "3018/3018 - 11s - loss: 0.0077 - 11s/epoch - 4ms/step\n",
            "Epoch 11/100\n",
            "3018/3018 - 12s - loss: 0.0076 - 12s/epoch - 4ms/step\n",
            "Epoch 12/100\n",
            "3018/3018 - 12s - loss: 0.0076 - 12s/epoch - 4ms/step\n",
            "Epoch 13/100\n",
            "3018/3018 - 12s - loss: 0.0076 - 12s/epoch - 4ms/step\n",
            "Epoch 14/100\n",
            "3018/3018 - 15s - loss: 0.0075 - 15s/epoch - 5ms/step\n",
            "Epoch 15/100\n",
            "3018/3018 - 12s - loss: 0.0075 - 12s/epoch - 4ms/step\n",
            "Epoch 16/100\n",
            "3018/3018 - 12s - loss: 0.0075 - 12s/epoch - 4ms/step\n",
            "Epoch 17/100\n",
            "3018/3018 - 12s - loss: 0.0074 - 12s/epoch - 4ms/step\n",
            "Epoch 18/100\n",
            "3018/3018 - 13s - loss: 0.0074 - 13s/epoch - 4ms/step\n",
            "Epoch 19/100\n",
            "3018/3018 - 12s - loss: 0.0074 - 12s/epoch - 4ms/step\n",
            "Epoch 20/100\n",
            "3018/3018 - 12s - loss: 0.0073 - 12s/epoch - 4ms/step\n",
            "Epoch 21/100\n",
            "3018/3018 - 13s - loss: 0.0073 - 13s/epoch - 4ms/step\n",
            "Epoch 22/100\n",
            "3018/3018 - 12s - loss: 0.0073 - 12s/epoch - 4ms/step\n",
            "Epoch 23/100\n",
            "3018/3018 - 12s - loss: 0.0073 - 12s/epoch - 4ms/step\n",
            "Epoch 24/100\n",
            "3018/3018 - 12s - loss: 0.0072 - 12s/epoch - 4ms/step\n",
            "Epoch 25/100\n",
            "3018/3018 - 14s - loss: 0.0072 - 14s/epoch - 5ms/step\n",
            "Epoch 26/100\n",
            "3018/3018 - 12s - loss: 0.0072 - 12s/epoch - 4ms/step\n",
            "Epoch 27/100\n",
            "3018/3018 - 12s - loss: 0.0071 - 12s/epoch - 4ms/step\n",
            "Epoch 28/100\n",
            "3018/3018 - 12s - loss: 0.0071 - 12s/epoch - 4ms/step\n",
            "Epoch 29/100\n",
            "3018/3018 - 11s - loss: 0.0071 - 11s/epoch - 4ms/step\n",
            "Epoch 30/100\n",
            "3018/3018 - 12s - loss: 0.0070 - 12s/epoch - 4ms/step\n",
            "Epoch 31/100\n",
            "3018/3018 - 12s - loss: 0.0070 - 12s/epoch - 4ms/step\n",
            "Epoch 32/100\n",
            "3018/3018 - 12s - loss: 0.0070 - 12s/epoch - 4ms/step\n",
            "Epoch 33/100\n",
            "3018/3018 - 12s - loss: 0.0069 - 12s/epoch - 4ms/step\n",
            "Epoch 34/100\n",
            "3018/3018 - 12s - loss: 0.0069 - 12s/epoch - 4ms/step\n",
            "Epoch 35/100\n",
            "3018/3018 - 12s - loss: 0.0069 - 12s/epoch - 4ms/step\n",
            "Epoch 36/100\n",
            "3018/3018 - 11s - loss: 0.0069 - 11s/epoch - 4ms/step\n",
            "Epoch 37/100\n",
            "3018/3018 - 11s - loss: 0.0068 - 11s/epoch - 4ms/step\n",
            "Epoch 38/100\n",
            "3018/3018 - 12s - loss: 0.0068 - 12s/epoch - 4ms/step\n",
            "Epoch 39/100\n",
            "3018/3018 - 12s - loss: 0.0068 - 12s/epoch - 4ms/step\n",
            "Epoch 40/100\n",
            "3018/3018 - 14s - loss: 0.0068 - 14s/epoch - 5ms/step\n",
            "Epoch 41/100\n",
            "3018/3018 - 14s - loss: 0.0068 - 14s/epoch - 4ms/step\n",
            "Epoch 42/100\n",
            "3018/3018 - 12s - loss: 0.0067 - 12s/epoch - 4ms/step\n",
            "Epoch 43/100\n",
            "3018/3018 - 11s - loss: 0.0067 - 11s/epoch - 4ms/step\n",
            "Epoch 44/100\n",
            "3018/3018 - 12s - loss: 0.0067 - 12s/epoch - 4ms/step\n",
            "Epoch 45/100\n",
            "3018/3018 - 13s - loss: 0.0067 - 13s/epoch - 4ms/step\n",
            "Epoch 46/100\n",
            "3018/3018 - 12s - loss: 0.0067 - 12s/epoch - 4ms/step\n",
            "Epoch 47/100\n",
            "3018/3018 - 12s - loss: 0.0066 - 12s/epoch - 4ms/step\n",
            "Epoch 48/100\n",
            "3018/3018 - 12s - loss: 0.0066 - 12s/epoch - 4ms/step\n",
            "Epoch 49/100\n",
            "3018/3018 - 13s - loss: 0.0066 - 13s/epoch - 4ms/step\n",
            "Epoch 50/100\n",
            "3018/3018 - 13s - loss: 0.0066 - 13s/epoch - 4ms/step\n",
            "Epoch 51/100\n",
            "3018/3018 - 11s - loss: 0.0066 - 11s/epoch - 4ms/step\n",
            "Epoch 52/100\n",
            "3018/3018 - 11s - loss: 0.0065 - 11s/epoch - 4ms/step\n",
            "Epoch 53/100\n",
            "3018/3018 - 12s - loss: 0.0065 - 12s/epoch - 4ms/step\n",
            "Epoch 54/100\n",
            "3018/3018 - 12s - loss: 0.0065 - 12s/epoch - 4ms/step\n",
            "Epoch 55/100\n",
            "3018/3018 - 13s - loss: 0.0065 - 13s/epoch - 4ms/step\n",
            "Epoch 56/100\n",
            "3018/3018 - 12s - loss: 0.0065 - 12s/epoch - 4ms/step\n",
            "Epoch 57/100\n",
            "3018/3018 - 13s - loss: 0.0064 - 13s/epoch - 4ms/step\n",
            "Epoch 58/100\n",
            "3018/3018 - 11s - loss: 0.0065 - 11s/epoch - 4ms/step\n",
            "Epoch 59/100\n",
            "3018/3018 - 14s - loss: 0.0064 - 14s/epoch - 5ms/step\n",
            "Epoch 60/100\n",
            "3018/3018 - 11s - loss: 0.0064 - 11s/epoch - 4ms/step\n",
            "Epoch 61/100\n",
            "3018/3018 - 12s - loss: 0.0064 - 12s/epoch - 4ms/step\n",
            "Epoch 62/100\n",
            "3018/3018 - 12s - loss: 0.0064 - 12s/epoch - 4ms/step\n",
            "Epoch 63/100\n",
            "3018/3018 - 12s - loss: 0.0064 - 12s/epoch - 4ms/step\n",
            "Epoch 64/100\n",
            "3018/3018 - 12s - loss: 0.0063 - 12s/epoch - 4ms/step\n",
            "Epoch 65/100\n",
            "3018/3018 - 11s - loss: 0.0063 - 11s/epoch - 4ms/step\n",
            "Epoch 66/100\n",
            "3018/3018 - 11s - loss: 0.0063 - 11s/epoch - 4ms/step\n",
            "Epoch 67/100\n",
            "3018/3018 - 12s - loss: 0.0063 - 12s/epoch - 4ms/step\n",
            "Epoch 68/100\n",
            "3018/3018 - 12s - loss: 0.0062 - 12s/epoch - 4ms/step\n",
            "Epoch 69/100\n",
            "3018/3018 - 12s - loss: 0.0062 - 12s/epoch - 4ms/step\n",
            "Epoch 70/100\n",
            "3018/3018 - 13s - loss: 0.0062 - 13s/epoch - 4ms/step\n",
            "Epoch 71/100\n",
            "3018/3018 - 12s - loss: 0.0062 - 12s/epoch - 4ms/step\n",
            "Epoch 72/100\n",
            "3018/3018 - 13s - loss: 0.0062 - 13s/epoch - 4ms/step\n",
            "Epoch 73/100\n",
            "3018/3018 - 14s - loss: 0.0062 - 14s/epoch - 5ms/step\n",
            "Epoch 74/100\n",
            "3018/3018 - 12s - loss: 0.0061 - 12s/epoch - 4ms/step\n",
            "Epoch 75/100\n",
            "3018/3018 - 11s - loss: 0.0062 - 11s/epoch - 4ms/step\n",
            "Epoch 76/100\n",
            "3018/3018 - 12s - loss: 0.0061 - 12s/epoch - 4ms/step\n",
            "Epoch 77/100\n",
            "3018/3018 - 12s - loss: 0.0061 - 12s/epoch - 4ms/step\n",
            "Epoch 78/100\n",
            "3018/3018 - 12s - loss: 0.0061 - 12s/epoch - 4ms/step\n",
            "Epoch 79/100\n",
            "3018/3018 - 13s - loss: 0.0060 - 13s/epoch - 4ms/step\n",
            "Epoch 80/100\n",
            "3018/3018 - 12s - loss: 0.0060 - 12s/epoch - 4ms/step\n",
            "Epoch 81/100\n",
            "3018/3018 - 12s - loss: 0.0061 - 12s/epoch - 4ms/step\n",
            "Epoch 82/100\n",
            "3018/3018 - 11s - loss: 0.0060 - 11s/epoch - 4ms/step\n",
            "Epoch 83/100\n",
            "3018/3018 - 11s - loss: 0.0059 - 11s/epoch - 4ms/step\n",
            "Epoch 84/100\n",
            "3018/3018 - 12s - loss: 0.0059 - 12s/epoch - 4ms/step\n",
            "Epoch 85/100\n",
            "3018/3018 - 12s - loss: 0.0060 - 12s/epoch - 4ms/step\n",
            "Epoch 86/100\n",
            "3018/3018 - 12s - loss: 0.0060 - 12s/epoch - 4ms/step\n",
            "Epoch 87/100\n",
            "3018/3018 - 12s - loss: 0.0059 - 12s/epoch - 4ms/step\n",
            "Epoch 88/100\n",
            "3018/3018 - 13s - loss: 0.0059 - 13s/epoch - 4ms/step\n",
            "Epoch 89/100\n",
            "3018/3018 - 13s - loss: 0.0059 - 13s/epoch - 4ms/step\n",
            "Epoch 90/100\n",
            "3018/3018 - 12s - loss: 0.0058 - 12s/epoch - 4ms/step\n",
            "Epoch 91/100\n",
            "3018/3018 - 12s - loss: 0.0059 - 12s/epoch - 4ms/step\n",
            "Epoch 92/100\n",
            "3018/3018 - 13s - loss: 0.0059 - 13s/epoch - 4ms/step\n",
            "Epoch 93/100\n",
            "3018/3018 - 13s - loss: 0.0059 - 13s/epoch - 4ms/step\n"
          ]
        },
        {
          "output_type": "display_data",
          "data": {
            "text/plain": [
              "<Figure size 640x480 with 1 Axes>"
            ],
            "image/png": "[encoded data removed]"
          },
          "metadata": {}
        },
        {
          "output_type": "stream",
          "name": "stdout",
          "text": [
            "24/24 [==============================] - 0s 2ms/step\n",
            "MAPE: 7.61546178776697\n",
            "RMSE: 1384.3701810745604\n",
            "Correlation 0.8112873234976666 with p-value 3.913983644457104e-175\n"
          ]
        }
      ]
    },
    {
      "cell_type": "markdown",
      "source": [
        "# Top n predictors"
      ],
      "metadata": {
        "id": "LbQw4F0V-z1N"
      }
    },
    {
      "cell_type": "markdown",
      "source": [
        "### Tan"
      ],
      "metadata": {
        "id": "tEpe3VsC-1H8"
      }
    },
    {
      "cell_type": "code",
      "source": [
        "mape_list, rmse_list, corr_list, predictions_wintertime, df_lstm, predictors_list, df_test_prophet = run_setup(\n",
        "    n_predictors=n_predictors,\n",
        "    alpha=0.05,\n",
        "    use_top_n_predictors=True,\n",
        "    use_all_predictors=False,\n",
        "    use_no_predictors=False,\n",
        "    known_features_list=known_features_list,\n",
        "    start_test_wintertime=start_test_wintertime,\n",
        "    n_days_lag=n_days_lag,\n",
        "    add_seasonality=True,\n",
        "    fourier_weekly=1,\n",
        "    fourier_annual=1,\n",
        "    automatic=True,\n",
        "    k_folds=3,\n",
        "    huang=False,\n",
        "    tan=True\n",
        ")"
      ],
      "metadata": {
        "colab": {
          "base_uri": "https://localhost:8080/"
        },
        "id": "cX3Zfa5B-81R",
        "outputId": "3ba0c322-f14b-46c4-fe6b-b50ad90f5c01"
      },
      "execution_count": 19,
      "outputs": [
        {
          "output_type": "stream",
          "name": "stdout",
          "text": [
            "These are top 5 predictors:  ['sic-60days', 'NAO-60days', 'nat-60days', 'geopotential-60days', 'NationalHolidayFlag']\n",
            "Top n predictors are used\n",
            "Top n predictors are used\n"
          ]
        },
        {
          "output_type": "stream",
          "name": "stderr",
          "text": [
            "DEBUG:cmdstanpy:input tempfile: /tmp/tmpd26ms1ki/ud8m8842.json\n",
            "DEBUG:cmdstanpy:input tempfile: /tmp/tmpd26ms1ki/_w7prs8o.json\n",
            "DEBUG:cmdstanpy:idx 0\n",
            "DEBUG:cmdstanpy:running CmdStan, num_threads: None\n",
            "DEBUG:cmdstanpy:CmdStan args: ['/usr/local/lib/python3.10/dist-packages/prophet/stan_model/prophet_model.bin', 'random', 'seed=42230', 'data', 'file=/tmp/tmpd26ms1ki/ud8m8842.json', 'init=/tmp/tmpd26ms1ki/_w7prs8o.json', 'output', 'file=/tmp/tmpd26ms1ki/prophet_modeldy6_z2pp/prophet_model-20240503072944.csv', 'method=optimize', 'algorithm=lbfgs', 'iter=10000']\n",
            "07:29:44 - cmdstanpy - INFO - Chain [1] start processing\n",
            "INFO:cmdstanpy:Chain [1] start processing\n",
            "07:30:08 - cmdstanpy - INFO - Chain [1] done processing\n",
            "INFO:cmdstanpy:Chain [1] done processing\n"
          ]
        }
      ]
    },
    {
      "cell_type": "code",
      "source": [
        "avg_rmse = sum(rmse_list) / len(rmse_list)\n",
        "print(f'avg rmse {avg_rmse}')\n",
        "\n",
        "corrs = [i[0] for i in corr_list]\n",
        "avg_corr = sum(corrs) / len(corrs)\n",
        "print(f'avg corr {avg_corr}')\n",
        "\n",
        "avg_mape = sum(mape_list) / len(mape_list)\n",
        "print(f'avg mape {avg_mape}')"
      ],
      "metadata": {
        "colab": {
          "base_uri": "https://localhost:8080/"
        },
        "id": "_d_xIfOQ_RIG",
        "outputId": "bcf89bb9-bbcb-43ee-87df-10458b429b08"
      },
      "execution_count": 79,
      "outputs": [
        {
          "output_type": "stream",
          "name": "stdout",
          "text": [
            "avg rmse 1701.3239395488592\n",
            "avg corr 0.6937858666025876\n",
            "avg mape 11.041635874420924\n"
          ]
        }
      ]
    },
    {
      "cell_type": "code",
      "source": [
        "run_full_model(df_lstm=df_lstm, huang=False, tan=True, predictors_list=predictors_list, df_test_prophet=df_test_prophet)"
      ],
      "metadata": {
        "colab": {
          "base_uri": "https://localhost:8080/",
          "height": 1000
        },
        "id": "7l3pPA2Y_iTz",
        "outputId": "e855f31b-a6d2-4722-9338-a5b5051d75b7"
      },
      "execution_count": 20,
      "outputs": [
        {
          "output_type": "stream",
          "name": "stdout",
          "text": [
            "Epoch 1/100\n",
            "3018/3018 - 12s - loss: 0.0190 - 12s/epoch - 4ms/step\n",
            "Epoch 2/100\n",
            "3018/3018 - 8s - loss: 0.0125 - 8s/epoch - 3ms/step\n",
            "Epoch 3/100\n",
            "3018/3018 - 10s - loss: 0.0110 - 10s/epoch - 3ms/step\n",
            "Epoch 4/100\n",
            "3018/3018 - 9s - loss: 0.0104 - 9s/epoch - 3ms/step\n",
            "Epoch 5/100\n",
            "3018/3018 - 8s - loss: 0.0102 - 8s/epoch - 3ms/step\n",
            "Epoch 6/100\n",
            "3018/3018 - 9s - loss: 0.0099 - 9s/epoch - 3ms/step\n",
            "Epoch 7/100\n",
            "3018/3018 - 10s - loss: 0.0098 - 10s/epoch - 3ms/step\n",
            "Epoch 8/100\n",
            "3018/3018 - 10s - loss: 0.0095 - 10s/epoch - 3ms/step\n",
            "Epoch 9/100\n",
            "3018/3018 - 9s - loss: 0.0095 - 9s/epoch - 3ms/step\n",
            "Epoch 10/100\n",
            "3018/3018 - 9s - loss: 0.0093 - 9s/epoch - 3ms/step\n",
            "Epoch 11/100\n",
            "3018/3018 - 9s - loss: 0.0092 - 9s/epoch - 3ms/step\n",
            "Epoch 12/100\n",
            "3018/3018 - 9s - loss: 0.0092 - 9s/epoch - 3ms/step\n",
            "Epoch 13/100\n",
            "3018/3018 - 9s - loss: 0.0091 - 9s/epoch - 3ms/step\n",
            "Epoch 14/100\n",
            "3018/3018 - 9s - loss: 0.0090 - 9s/epoch - 3ms/step\n",
            "Epoch 15/100\n",
            "3018/3018 - 9s - loss: 0.0090 - 9s/epoch - 3ms/step\n",
            "Epoch 16/100\n",
            "3018/3018 - 9s - loss: 0.0090 - 9s/epoch - 3ms/step\n",
            "Epoch 17/100\n",
            "3018/3018 - 9s - loss: 0.0090 - 9s/epoch - 3ms/step\n",
            "Epoch 18/100\n",
            "3018/3018 - 9s - loss: 0.0089 - 9s/epoch - 3ms/step\n",
            "Epoch 19/100\n",
            "3018/3018 - 9s - loss: 0.0090 - 9s/epoch - 3ms/step\n",
            "Epoch 20/100\n",
            "3018/3018 - 9s - loss: 0.0089 - 9s/epoch - 3ms/step\n",
            "Epoch 21/100\n",
            "3018/3018 - 9s - loss: 0.0089 - 9s/epoch - 3ms/step\n"
          ]
        },
        {
          "output_type": "display_data",
          "data": {
            "text/plain": [
              "<Figure size 640x480 with 1 Axes>"
            ],
            "image/png": "[encoded data removed]"
          },
          "metadata": {}
        },
        {
          "output_type": "stream",
          "name": "stdout",
          "text": [
            "24/24 [==============================] - 1s 2ms/step\n",
            "MAPE: 9.187527364472407\n",
            "RMSE: 1636.0770762634343\n",
            "Correlation 0.740924139639358 with p-value 2.0279684554550667e-130\n"
          ]
        }
      ]
    },
    {
      "cell_type": "markdown",
      "source": [
        "### Huang"
      ],
      "metadata": {
        "id": "mNtE9XAr-1zS"
      }
    },
    {
      "cell_type": "code",
      "source": [
        "mape_list, rmse_list, corr_list, predictions_wintertime, df_lstm, predictors_list, df_test_prophet = run_setup(\n",
        "    n_predictors=n_predictors,\n",
        "    alpha=0.05,\n",
        "    use_top_n_predictors=True,\n",
        "    use_all_predictors=False,\n",
        "    use_no_predictors=False,\n",
        "    known_features_list=known_features_list,\n",
        "    start_test_wintertime=start_test_wintertime,\n",
        "    n_days_lag=n_days_lag,\n",
        "    add_seasonality=True,\n",
        "    fourier_weekly=1,\n",
        "    fourier_annual=1,\n",
        "    automatic=True,\n",
        "    k_folds=3,\n",
        "    huang=True,\n",
        "    tan=False\n",
        ")"
      ],
      "metadata": {
        "colab": {
          "base_uri": "https://localhost:8080/"
        },
        "id": "fdZGS5MjjyPo",
        "outputId": "e3f542bd-5821-4c09-bd5c-05701f56ac1a"
      },
      "execution_count": 21,
      "outputs": [
        {
          "output_type": "stream",
          "name": "stdout",
          "text": [
            "These are top 5 predictors:  ['sic-60days', 'NAO-60days', 'nat-60days', 'geopotential-60days', 'NationalHolidayFlag']\n",
            "Top n predictors are used\n",
            "Top n predictors are used\n"
          ]
        },
        {
          "output_type": "stream",
          "name": "stderr",
          "text": [
            "DEBUG:cmdstanpy:input tempfile: /tmp/tmpd26ms1ki/morgl0l0.json\n",
            "DEBUG:cmdstanpy:input tempfile: /tmp/tmpd26ms1ki/tdj5t7vm.json\n",
            "DEBUG:cmdstanpy:idx 0\n",
            "DEBUG:cmdstanpy:running CmdStan, num_threads: None\n",
            "DEBUG:cmdstanpy:CmdStan args: ['/usr/local/lib/python3.10/dist-packages/prophet/stan_model/prophet_model.bin', 'random', 'seed=81349', 'data', 'file=/tmp/tmpd26ms1ki/morgl0l0.json', 'init=/tmp/tmpd26ms1ki/tdj5t7vm.json', 'output', 'file=/tmp/tmpd26ms1ki/prophet_model6duk87ub/prophet_model-20240503073355.csv', 'method=optimize', 'algorithm=lbfgs', 'iter=10000']\n",
            "07:33:55 - cmdstanpy - INFO - Chain [1] start processing\n",
            "INFO:cmdstanpy:Chain [1] start processing\n",
            "07:34:16 - cmdstanpy - INFO - Chain [1] done processing\n",
            "INFO:cmdstanpy:Chain [1] done processing\n"
          ]
        }
      ]
    },
    {
      "cell_type": "code",
      "source": [
        "avg_rmse = sum(rmse_list) / len(rmse_list)\n",
        "print(f'avg rmse {avg_rmse}')\n",
        "\n",
        "corrs = [i[0] for i in corr_list]\n",
        "avg_corr = sum(corrs) / len(corrs)\n",
        "print(f'avg corr {avg_corr}')\n",
        "\n",
        "avg_mape = sum(mape_list) / len(mape_list)\n",
        "print(f'avg mape {avg_mape}')"
      ],
      "metadata": {
        "id": "LO9ry54DFFvG",
        "colab": {
          "base_uri": "https://localhost:8080/"
        },
        "outputId": "1c6e167d-96d8-484c-e7d8-69eefeb3990b"
      },
      "execution_count": 82,
      "outputs": [
        {
          "output_type": "stream",
          "name": "stdout",
          "text": [
            "avg rmse 1282.799714325019\n",
            "avg corr 0.7749828427602554\n",
            "avg mape 8.369306678715569\n"
          ]
        }
      ]
    },
    {
      "cell_type": "code",
      "source": [
        "run_full_model(df_lstm=df_lstm, huang=True, tan=False, predictors_list=predictors_list, df_test_prophet=df_test_prophet)"
      ],
      "metadata": {
        "id": "xYnKwCvFpiBm",
        "colab": {
          "base_uri": "https://localhost:8080/",
          "height": 1000
        },
        "outputId": "8410dce2-f5eb-40d5-b7a2-071e5700ea53"
      },
      "execution_count": 22,
      "outputs": [
        {
          "output_type": "stream",
          "name": "stdout",
          "text": [
            "Epoch 1/100\n",
            "3018/3018 - 15s - loss: 0.0116 - 15s/epoch - 5ms/step\n",
            "Epoch 2/100\n",
            "3018/3018 - 14s - loss: 0.0085 - 14s/epoch - 4ms/step\n",
            "Epoch 3/100\n",
            "3018/3018 - 12s - loss: 0.0081 - 12s/epoch - 4ms/step\n",
            "Epoch 4/100\n",
            "3018/3018 - 12s - loss: 0.0080 - 12s/epoch - 4ms/step\n",
            "Epoch 5/100\n",
            "3018/3018 - 11s - loss: 0.0079 - 11s/epoch - 4ms/step\n",
            "Epoch 6/100\n",
            "3018/3018 - 12s - loss: 0.0078 - 12s/epoch - 4ms/step\n",
            "Epoch 7/100\n",
            "3018/3018 - 12s - loss: 0.0077 - 12s/epoch - 4ms/step\n",
            "Epoch 8/100\n",
            "3018/3018 - 12s - loss: 0.0077 - 12s/epoch - 4ms/step\n",
            "Epoch 9/100\n",
            "3018/3018 - 13s - loss: 0.0076 - 13s/epoch - 4ms/step\n",
            "Epoch 10/100\n",
            "3018/3018 - 12s - loss: 0.0075 - 12s/epoch - 4ms/step\n",
            "Epoch 11/100\n",
            "3018/3018 - 12s - loss: 0.0075 - 12s/epoch - 4ms/step\n",
            "Epoch 12/100\n",
            "3018/3018 - 12s - loss: 0.0074 - 12s/epoch - 4ms/step\n",
            "Epoch 13/100\n",
            "3018/3018 - 11s - loss: 0.0074 - 11s/epoch - 4ms/step\n",
            "Epoch 14/100\n",
            "3018/3018 - 12s - loss: 0.0074 - 12s/epoch - 4ms/step\n",
            "Epoch 15/100\n",
            "3018/3018 - 12s - loss: 0.0074 - 12s/epoch - 4ms/step\n",
            "Epoch 16/100\n",
            "3018/3018 - 12s - loss: 0.0073 - 12s/epoch - 4ms/step\n",
            "Epoch 17/100\n",
            "3018/3018 - 15s - loss: 0.0073 - 15s/epoch - 5ms/step\n",
            "Epoch 18/100\n",
            "3018/3018 - 13s - loss: 0.0073 - 13s/epoch - 4ms/step\n",
            "Epoch 19/100\n",
            "3018/3018 - 13s - loss: 0.0072 - 13s/epoch - 4ms/step\n",
            "Epoch 20/100\n",
            "3018/3018 - 12s - loss: 0.0072 - 12s/epoch - 4ms/step\n",
            "Epoch 21/100\n",
            "3018/3018 - 11s - loss: 0.0072 - 11s/epoch - 4ms/step\n",
            "Epoch 22/100\n",
            "3018/3018 - 11s - loss: 0.0071 - 11s/epoch - 4ms/step\n",
            "Epoch 23/100\n",
            "3018/3018 - 12s - loss: 0.0071 - 12s/epoch - 4ms/step\n",
            "Epoch 24/100\n",
            "3018/3018 - 12s - loss: 0.0071 - 12s/epoch - 4ms/step\n",
            "Epoch 25/100\n",
            "3018/3018 - 12s - loss: 0.0071 - 12s/epoch - 4ms/step\n",
            "Epoch 26/100\n",
            "3018/3018 - 11s - loss: 0.0070 - 11s/epoch - 4ms/step\n",
            "Epoch 27/100\n",
            "3018/3018 - 12s - loss: 0.0070 - 12s/epoch - 4ms/step\n",
            "Epoch 28/100\n",
            "3018/3018 - 12s - loss: 0.0070 - 12s/epoch - 4ms/step\n",
            "Epoch 29/100\n",
            "3018/3018 - 10s - loss: 0.0069 - 10s/epoch - 3ms/step\n",
            "Epoch 30/100\n",
            "3018/3018 - 12s - loss: 0.0069 - 12s/epoch - 4ms/step\n",
            "Epoch 31/100\n",
            "3018/3018 - 12s - loss: 0.0069 - 12s/epoch - 4ms/step\n",
            "Epoch 32/100\n",
            "3018/3018 - 12s - loss: 0.0069 - 12s/epoch - 4ms/step\n",
            "Epoch 33/100\n",
            "3018/3018 - 12s - loss: 0.0069 - 12s/epoch - 4ms/step\n",
            "Epoch 34/100\n",
            "3018/3018 - 13s - loss: 0.0068 - 13s/epoch - 4ms/step\n",
            "Epoch 35/100\n",
            "3018/3018 - 12s - loss: 0.0068 - 12s/epoch - 4ms/step\n",
            "Epoch 36/100\n",
            "3018/3018 - 11s - loss: 0.0068 - 11s/epoch - 4ms/step\n",
            "Epoch 37/100\n",
            "3018/3018 - 13s - loss: 0.0068 - 13s/epoch - 4ms/step\n",
            "Epoch 38/100\n",
            "3018/3018 - 12s - loss: 0.0068 - 12s/epoch - 4ms/step\n",
            "Epoch 39/100\n",
            "3018/3018 - 12s - loss: 0.0068 - 12s/epoch - 4ms/step\n",
            "Epoch 40/100\n",
            "3018/3018 - 12s - loss: 0.0067 - 12s/epoch - 4ms/step\n",
            "Epoch 41/100\n",
            "3018/3018 - 12s - loss: 0.0067 - 12s/epoch - 4ms/step\n",
            "Epoch 42/100\n",
            "3018/3018 - 12s - loss: 0.0067 - 12s/epoch - 4ms/step\n",
            "Epoch 43/100\n",
            "3018/3018 - 12s - loss: 0.0067 - 12s/epoch - 4ms/step\n",
            "Epoch 44/100\n",
            "3018/3018 - 11s - loss: 0.0067 - 11s/epoch - 4ms/step\n",
            "Epoch 45/100\n",
            "3018/3018 - 11s - loss: 0.0066 - 11s/epoch - 4ms/step\n",
            "Epoch 46/100\n",
            "3018/3018 - 12s - loss: 0.0066 - 12s/epoch - 4ms/step\n",
            "Epoch 47/100\n",
            "3018/3018 - 12s - loss: 0.0067 - 12s/epoch - 4ms/step\n",
            "Epoch 48/100\n",
            "3018/3018 - 12s - loss: 0.0066 - 12s/epoch - 4ms/step\n",
            "Epoch 49/100\n",
            "3018/3018 - 12s - loss: 0.0066 - 12s/epoch - 4ms/step\n",
            "Epoch 50/100\n",
            "3018/3018 - 13s - loss: 0.0066 - 13s/epoch - 4ms/step\n",
            "Epoch 51/100\n",
            "3018/3018 - 11s - loss: 0.0066 - 11s/epoch - 4ms/step\n",
            "Epoch 52/100\n",
            "3018/3018 - 12s - loss: 0.0066 - 12s/epoch - 4ms/step\n",
            "Epoch 53/100\n",
            "3018/3018 - 12s - loss: 0.0066 - 12s/epoch - 4ms/step\n",
            "Epoch 54/100\n",
            "3018/3018 - 12s - loss: 0.0066 - 12s/epoch - 4ms/step\n",
            "Epoch 55/100\n",
            "3018/3018 - 12s - loss: 0.0066 - 12s/epoch - 4ms/step\n",
            "Epoch 56/100\n",
            "3018/3018 - 13s - loss: 0.0065 - 13s/epoch - 4ms/step\n",
            "Epoch 57/100\n",
            "3018/3018 - 12s - loss: 0.0065 - 12s/epoch - 4ms/step\n",
            "Epoch 58/100\n",
            "3018/3018 - 13s - loss: 0.0065 - 13s/epoch - 4ms/step\n",
            "Epoch 59/100\n",
            "3018/3018 - 12s - loss: 0.0065 - 12s/epoch - 4ms/step\n",
            "Epoch 60/100\n",
            "3018/3018 - 11s - loss: 0.0065 - 11s/epoch - 3ms/step\n",
            "Epoch 61/100\n",
            "3018/3018 - 12s - loss: 0.0065 - 12s/epoch - 4ms/step\n",
            "Epoch 62/100\n",
            "3018/3018 - 12s - loss: 0.0065 - 12s/epoch - 4ms/step\n",
            "Epoch 63/100\n",
            "3018/3018 - 12s - loss: 0.0065 - 12s/epoch - 4ms/step\n",
            "Epoch 64/100\n",
            "3018/3018 - 12s - loss: 0.0065 - 12s/epoch - 4ms/step\n",
            "Epoch 65/100\n",
            "3018/3018 - 12s - loss: 0.0064 - 12s/epoch - 4ms/step\n",
            "Epoch 66/100\n",
            "3018/3018 - 12s - loss: 0.0064 - 12s/epoch - 4ms/step\n",
            "Epoch 67/100\n",
            "3018/3018 - 12s - loss: 0.0064 - 12s/epoch - 4ms/step\n",
            "Epoch 68/100\n",
            "3018/3018 - 12s - loss: 0.0064 - 12s/epoch - 4ms/step\n",
            "Epoch 69/100\n",
            "3018/3018 - 13s - loss: 0.0064 - 13s/epoch - 4ms/step\n",
            "Epoch 70/100\n",
            "3018/3018 - 12s - loss: 0.0064 - 12s/epoch - 4ms/step\n",
            "Epoch 71/100\n",
            "3018/3018 - 12s - loss: 0.0064 - 12s/epoch - 4ms/step\n",
            "Epoch 72/100\n",
            "3018/3018 - 12s - loss: 0.0064 - 12s/epoch - 4ms/step\n",
            "Epoch 73/100\n",
            "3018/3018 - 12s - loss: 0.0064 - 12s/epoch - 4ms/step\n",
            "Epoch 74/100\n",
            "3018/3018 - 12s - loss: 0.0064 - 12s/epoch - 4ms/step\n",
            "Epoch 75/100\n",
            "3018/3018 - 12s - loss: 0.0064 - 12s/epoch - 4ms/step\n",
            "Epoch 76/100\n",
            "3018/3018 - 14s - loss: 0.0063 - 14s/epoch - 5ms/step\n",
            "Epoch 77/100\n",
            "3018/3018 - 12s - loss: 0.0063 - 12s/epoch - 4ms/step\n",
            "Epoch 78/100\n",
            "3018/3018 - 13s - loss: 0.0063 - 13s/epoch - 4ms/step\n",
            "Epoch 79/100\n",
            "3018/3018 - 12s - loss: 0.0063 - 12s/epoch - 4ms/step\n",
            "Epoch 80/100\n",
            "3018/3018 - 12s - loss: 0.0063 - 12s/epoch - 4ms/step\n",
            "Epoch 81/100\n",
            "3018/3018 - 12s - loss: 0.0063 - 12s/epoch - 4ms/step\n",
            "Epoch 82/100\n",
            "3018/3018 - 12s - loss: 0.0063 - 12s/epoch - 4ms/step\n",
            "Epoch 83/100\n",
            "3018/3018 - 13s - loss: 0.0063 - 13s/epoch - 4ms/step\n",
            "Epoch 84/100\n",
            "3018/3018 - 13s - loss: 0.0063 - 13s/epoch - 4ms/step\n",
            "Epoch 85/100\n",
            "3018/3018 - 12s - loss: 0.0062 - 12s/epoch - 4ms/step\n",
            "Epoch 86/100\n",
            "3018/3018 - 12s - loss: 0.0063 - 12s/epoch - 4ms/step\n",
            "Epoch 87/100\n",
            "3018/3018 - 12s - loss: 0.0062 - 12s/epoch - 4ms/step\n",
            "Epoch 88/100\n",
            "3018/3018 - 12s - loss: 0.0062 - 12s/epoch - 4ms/step\n",
            "Epoch 89/100\n",
            "3018/3018 - 12s - loss: 0.0062 - 12s/epoch - 4ms/step\n",
            "Epoch 90/100\n",
            "3018/3018 - 14s - loss: 0.0062 - 14s/epoch - 5ms/step\n"
          ]
        },
        {
          "output_type": "display_data",
          "data": {
            "text/plain": [
              "<Figure size 640x480 with 1 Axes>"
            ],
            "image/png": "[encoded data removed]"
          },
          "metadata": {}
        },
        {
          "output_type": "stream",
          "name": "stdout",
          "text": [
            "24/24 [==============================] - 0s 2ms/step\n",
            "MAPE: 6.616062248717107\n",
            "RMSE: 1229.6022161510514\n",
            "Correlation 0.8631293688047018 with p-value 2.2992376344395663e-222\n"
          ]
        }
      ]
    },
    {
      "cell_type": "markdown",
      "source": [
        "# No predictors"
      ],
      "metadata": {
        "id": "CH2A43hI_FFT"
      }
    },
    {
      "cell_type": "markdown",
      "source": [
        "### Tan"
      ],
      "metadata": {
        "id": "EYr1UywH_GK0"
      }
    },
    {
      "cell_type": "code",
      "source": [
        "mape_list, rmse_list, corr_list, predictions_wintertime, df_lstm, predictors_list, df_test_prophet = run_setup(\n",
        "    n_predictors=n_predictors,\n",
        "    alpha=0.05,\n",
        "    use_top_n_predictors=False,\n",
        "    use_all_predictors=False,\n",
        "    use_no_predictors=True,\n",
        "    known_features_list=known_features_list,\n",
        "    start_test_wintertime=start_test_wintertime,\n",
        "    n_days_lag=n_days_lag,\n",
        "    add_seasonality=True,\n",
        "    fourier_weekly=1,\n",
        "    fourier_annual=1,\n",
        "    automatic=True,\n",
        "    k_folds=3,\n",
        "    huang=False,\n",
        "    tan=True\n",
        ")"
      ],
      "metadata": {
        "colab": {
          "base_uri": "https://localhost:8080/"
        },
        "id": "toML8pb9_J5A",
        "outputId": "4aa964f8-c6b6-48f3-ec13-59ee7c165f61"
      },
      "execution_count": 32,
      "outputs": [
        {
          "output_type": "stream",
          "name": "stderr",
          "text": [
            "DEBUG:cmdstanpy:input tempfile: /tmp/tmpd26ms1ki/dk07bm_8.json\n"
          ]
        },
        {
          "output_type": "stream",
          "name": "stdout",
          "text": [
            "No predictors are used\n",
            "                       ds  LoadConsumption-60days           y\n",
            "0     2021-03-02 00:00:00              11313.1375  10937.0525\n",
            "1     2021-03-02 01:00:00              10925.1475  10833.9750\n",
            "2     2021-03-02 02:00:00              10576.8200  10807.7400\n",
            "3     2021-03-02 03:00:00              10371.1225  10970.1925\n",
            "4     2021-03-02 04:00:00              10420.2075  11400.2950\n",
            "...                   ...                     ...         ...\n",
            "24097 2023-11-30 19:00:00              12641.4825  16063.3075\n",
            "24098 2023-11-30 20:00:00              12091.3375  15370.1250\n",
            "24099 2023-11-30 21:00:00              11434.7225  14699.8525\n",
            "24100 2023-11-30 22:00:00              10516.5075  14109.4925\n",
            "24101 2023-11-30 23:00:00              10033.4825  13508.1750\n",
            "\n",
            "[24102 rows x 3 columns]\n",
            "No predictors are used\n"
          ]
        },
        {
          "output_type": "stream",
          "name": "stderr",
          "text": [
            "DEBUG:cmdstanpy:input tempfile: /tmp/tmpd26ms1ki/hvibj0e0.json\n",
            "DEBUG:cmdstanpy:idx 0\n",
            "DEBUG:cmdstanpy:running CmdStan, num_threads: None\n",
            "DEBUG:cmdstanpy:CmdStan args: ['/usr/local/lib/python3.10/dist-packages/prophet/stan_model/prophet_model.bin', 'random', 'seed=78603', 'data', 'file=/tmp/tmpd26ms1ki/dk07bm_8.json', 'init=/tmp/tmpd26ms1ki/hvibj0e0.json', 'output', 'file=/tmp/tmpd26ms1ki/prophet_modelcpe86ga7/prophet_model-20240503075325.csv', 'method=optimize', 'algorithm=lbfgs', 'iter=10000']\n",
            "07:53:25 - cmdstanpy - INFO - Chain [1] start processing\n",
            "INFO:cmdstanpy:Chain [1] start processing\n",
            "07:53:44 - cmdstanpy - INFO - Chain [1] done processing\n",
            "INFO:cmdstanpy:Chain [1] done processing\n"
          ]
        }
      ]
    },
    {
      "cell_type": "code",
      "source": [
        "avg_rmse = sum(rmse_list) / len(rmse_list)\n",
        "print(f'avg rmse {avg_rmse}')\n",
        "\n",
        "corrs = [i[0] for i in corr_list]\n",
        "avg_corr = sum(corrs) / len(corrs)\n",
        "print(f'avg corr {avg_corr}')\n",
        "\n",
        "avg_mape = sum(mape_list) / len(mape_list)\n",
        "print(f'avg mape {avg_mape}')"
      ],
      "metadata": {
        "colab": {
          "base_uri": "https://localhost:8080/"
        },
        "id": "SQBh03WO_Pbt",
        "outputId": "9671d534-4f1a-4bca-e817-2695c22fc410"
      },
      "execution_count": 85,
      "outputs": [
        {
          "output_type": "stream",
          "name": "stdout",
          "text": [
            "avg rmse 1867.1176658648235\n",
            "avg corr 0.6798723708927062\n",
            "avg mape 12.211620022911598\n"
          ]
        }
      ]
    },
    {
      "cell_type": "code",
      "source": [
        "run_full_model(df_lstm=df_lstm, huang=False, tan=True, predictors_list=predictors_list, df_test_prophet=df_test_prophet)"
      ],
      "metadata": {
        "colab": {
          "base_uri": "https://localhost:8080/",
          "height": 1000
        },
        "id": "Rx9ki4Wj_fi4",
        "outputId": "86e6cfb4-c0ac-41f3-990e-e7043cd04307"
      },
      "execution_count": 33,
      "outputs": [
        {
          "output_type": "stream",
          "name": "stdout",
          "text": [
            "Epoch 1/100\n",
            "3018/3018 - 12s - loss: 0.0189 - 12s/epoch - 4ms/step\n",
            "Epoch 2/100\n",
            "3018/3018 - 9s - loss: 0.0137 - 9s/epoch - 3ms/step\n",
            "Epoch 3/100\n",
            "3018/3018 - 11s - loss: 0.0120 - 11s/epoch - 4ms/step\n",
            "Epoch 4/100\n",
            "3018/3018 - 9s - loss: 0.0111 - 9s/epoch - 3ms/step\n",
            "Epoch 5/100\n",
            "3018/3018 - 8s - loss: 0.0107 - 8s/epoch - 3ms/step\n",
            "Epoch 6/100\n",
            "3018/3018 - 10s - loss: 0.0103 - 10s/epoch - 3ms/step\n",
            "Epoch 7/100\n",
            "3018/3018 - 9s - loss: 0.0101 - 9s/epoch - 3ms/step\n",
            "Epoch 8/100\n",
            "3018/3018 - 8s - loss: 0.0100 - 8s/epoch - 3ms/step\n",
            "Epoch 9/100\n",
            "3018/3018 - 9s - loss: 0.0099 - 9s/epoch - 3ms/step\n",
            "Epoch 10/100\n",
            "3018/3018 - 9s - loss: 0.0098 - 9s/epoch - 3ms/step\n",
            "Epoch 11/100\n",
            "3018/3018 - 8s - loss: 0.0096 - 8s/epoch - 3ms/step\n",
            "Epoch 12/100\n",
            "3018/3018 - 9s - loss: 0.0096 - 9s/epoch - 3ms/step\n",
            "Epoch 13/100\n",
            "3018/3018 - 8s - loss: 0.0095 - 8s/epoch - 3ms/step\n",
            "Epoch 14/100\n",
            "3018/3018 - 10s - loss: 0.0094 - 10s/epoch - 3ms/step\n",
            "Epoch 15/100\n",
            "3018/3018 - 10s - loss: 0.0094 - 10s/epoch - 3ms/step\n",
            "Epoch 16/100\n",
            "3018/3018 - 8s - loss: 0.0093 - 8s/epoch - 3ms/step\n",
            "Epoch 17/100\n",
            "3018/3018 - 9s - loss: 0.0093 - 9s/epoch - 3ms/step\n",
            "Epoch 18/100\n",
            "3018/3018 - 9s - loss: 0.0092 - 9s/epoch - 3ms/step\n",
            "Epoch 19/100\n",
            "3018/3018 - 8s - loss: 0.0093 - 8s/epoch - 3ms/step\n",
            "Epoch 20/100\n",
            "3018/3018 - 9s - loss: 0.0092 - 9s/epoch - 3ms/step\n",
            "Epoch 21/100\n",
            "3018/3018 - 9s - loss: 0.0093 - 9s/epoch - 3ms/step\n"
          ]
        },
        {
          "output_type": "display_data",
          "data": {
            "text/plain": [
              "<Figure size 640x480 with 1 Axes>"
            ],
            "image/png": "[encoded data removed]"
          },
          "metadata": {}
        },
        {
          "output_type": "stream",
          "name": "stdout",
          "text": [
            "24/24 [==============================] - 1s 2ms/step\n",
            "MAPE: 9.343828264244237\n",
            "RMSE: 1653.6798542354109\n",
            "Correlation 0.6903262997461681 with p-value 2.135384590926836e-106\n"
          ]
        }
      ]
    },
    {
      "cell_type": "markdown",
      "source": [
        "### Huang"
      ],
      "metadata": {
        "id": "WOdzfuHK_G8F"
      }
    },
    {
      "cell_type": "code",
      "source": [
        "mape_list, rmse_list, corr_list, predictions_wintertime, df_lstm, predictors_list, df_test_prophet = run_setup(\n",
        "    n_predictors=n_predictors,\n",
        "    alpha=0.05,\n",
        "    use_top_n_predictors=False,\n",
        "    use_all_predictors=False,\n",
        "    use_no_predictors=True,\n",
        "    known_features_list=known_features_list,\n",
        "    start_test_wintertime=start_test_wintertime,\n",
        "    n_days_lag=n_days_lag,\n",
        "    add_seasonality=True,\n",
        "    fourier_weekly=1,\n",
        "    fourier_annual=1,\n",
        "    automatic=True,\n",
        "    k_folds=3,\n",
        "    huang=True,\n",
        "    tan=False\n",
        ")"
      ],
      "metadata": {
        "colab": {
          "base_uri": "https://localhost:8080/"
        },
        "id": "ZbN_DMTs_EyG",
        "outputId": "22d7c997-414c-4ec7-9e97-1fc7feb0c058"
      },
      "execution_count": 40,
      "outputs": [
        {
          "output_type": "stream",
          "name": "stderr",
          "text": [
            "DEBUG:cmdstanpy:input tempfile: /tmp/tmpd26ms1ki/_p3d1kzc.json\n"
          ]
        },
        {
          "output_type": "stream",
          "name": "stdout",
          "text": [
            "No predictors are used\n",
            "                       ds  LoadConsumption-60days           y\n",
            "0     2021-03-02 00:00:00              11313.1375  10937.0525\n",
            "1     2021-03-02 01:00:00              10925.1475  10833.9750\n",
            "2     2021-03-02 02:00:00              10576.8200  10807.7400\n",
            "3     2021-03-02 03:00:00              10371.1225  10970.1925\n",
            "4     2021-03-02 04:00:00              10420.2075  11400.2950\n",
            "...                   ...                     ...         ...\n",
            "24097 2023-11-30 19:00:00              12641.4825  16063.3075\n",
            "24098 2023-11-30 20:00:00              12091.3375  15370.1250\n",
            "24099 2023-11-30 21:00:00              11434.7225  14699.8525\n",
            "24100 2023-11-30 22:00:00              10516.5075  14109.4925\n",
            "24101 2023-11-30 23:00:00              10033.4825  13508.1750\n",
            "\n",
            "[24102 rows x 3 columns]\n",
            "No predictors are used\n"
          ]
        },
        {
          "output_type": "stream",
          "name": "stderr",
          "text": [
            "DEBUG:cmdstanpy:input tempfile: /tmp/tmpd26ms1ki/ncfdo7ye.json\n",
            "DEBUG:cmdstanpy:idx 0\n",
            "DEBUG:cmdstanpy:running CmdStan, num_threads: None\n",
            "DEBUG:cmdstanpy:CmdStan args: ['/usr/local/lib/python3.10/dist-packages/prophet/stan_model/prophet_model.bin', 'random', 'seed=40031', 'data', 'file=/tmp/tmpd26ms1ki/_p3d1kzc.json', 'init=/tmp/tmpd26ms1ki/ncfdo7ye.json', 'output', 'file=/tmp/tmpd26ms1ki/prophet_modelb3r4ttjf/prophet_model-20240503080417.csv', 'method=optimize', 'algorithm=lbfgs', 'iter=10000']\n",
            "08:04:17 - cmdstanpy - INFO - Chain [1] start processing\n",
            "INFO:cmdstanpy:Chain [1] start processing\n",
            "08:04:37 - cmdstanpy - INFO - Chain [1] done processing\n",
            "INFO:cmdstanpy:Chain [1] done processing\n"
          ]
        }
      ]
    },
    {
      "cell_type": "code",
      "source": [
        "avg_rmse = sum(rmse_list) / len(rmse_list)\n",
        "print(f'avg rmse {avg_rmse}')\n",
        "\n",
        "corrs = [i[0] for i in corr_list]\n",
        "avg_corr = sum(corrs) / len(corrs)\n",
        "print(f'avg corr {avg_corr}')\n",
        "\n",
        "avg_mape = sum(mape_list) / len(mape_list)\n",
        "print(f'avg mape {avg_mape}')"
      ],
      "metadata": {
        "colab": {
          "base_uri": "https://localhost:8080/"
        },
        "id": "XaX4OCnU_QBD",
        "outputId": "c32df187-b1cc-4747-b9be-e17269afb6ab"
      },
      "execution_count": 88,
      "outputs": [
        {
          "output_type": "stream",
          "name": "stdout",
          "text": [
            "avg rmse 1588.7296060927274\n",
            "avg corr 0.7444394380838296\n",
            "avg mape 10.560829728729288\n"
          ]
        }
      ]
    },
    {
      "cell_type": "code",
      "source": [
        "# df_lstm.reset_index(inplace=True)\n",
        "run_full_model(df_lstm=df_lstm, huang=True, tan=False, predictors_list=predictors_list, df_test_prophet=df_test_prophet)"
      ],
      "metadata": {
        "colab": {
          "base_uri": "https://localhost:8080/",
          "height": 1000
        },
        "id": "yru1ruyG_ewQ",
        "outputId": "8f625853-7245-48c4-c121-c8fecb1895f7"
      },
      "execution_count": 41,
      "outputs": [
        {
          "output_type": "stream",
          "name": "stdout",
          "text": [
            "Epoch 1/100\n",
            "3018/3018 - 16s - loss: 0.0129 - 16s/epoch - 5ms/step\n",
            "Epoch 2/100\n",
            "3018/3018 - 14s - loss: 0.0087 - 14s/epoch - 5ms/step\n",
            "Epoch 3/100\n",
            "3018/3018 - 11s - loss: 0.0084 - 11s/epoch - 4ms/step\n",
            "Epoch 4/100\n",
            "3018/3018 - 11s - loss: 0.0082 - 11s/epoch - 4ms/step\n",
            "Epoch 5/100\n",
            "3018/3018 - 13s - loss: 0.0080 - 13s/epoch - 4ms/step\n",
            "Epoch 6/100\n",
            "3018/3018 - 12s - loss: 0.0079 - 12s/epoch - 4ms/step\n",
            "Epoch 7/100\n",
            "3018/3018 - 13s - loss: 0.0078 - 13s/epoch - 4ms/step\n",
            "Epoch 8/100\n",
            "3018/3018 - 12s - loss: 0.0077 - 12s/epoch - 4ms/step\n",
            "Epoch 9/100\n",
            "3018/3018 - 14s - loss: 0.0077 - 14s/epoch - 4ms/step\n",
            "Epoch 10/100\n",
            "3018/3018 - 12s - loss: 0.0077 - 12s/epoch - 4ms/step\n",
            "Epoch 11/100\n",
            "3018/3018 - 12s - loss: 0.0076 - 12s/epoch - 4ms/step\n",
            "Epoch 12/100\n",
            "3018/3018 - 12s - loss: 0.0075 - 12s/epoch - 4ms/step\n",
            "Epoch 13/100\n",
            "3018/3018 - 12s - loss: 0.0075 - 12s/epoch - 4ms/step\n",
            "Epoch 14/100\n",
            "3018/3018 - 13s - loss: 0.0075 - 13s/epoch - 4ms/step\n",
            "Epoch 15/100\n",
            "3018/3018 - 12s - loss: 0.0074 - 12s/epoch - 4ms/step\n",
            "Epoch 16/100\n",
            "3018/3018 - 12s - loss: 0.0074 - 12s/epoch - 4ms/step\n",
            "Epoch 17/100\n",
            "3018/3018 - 13s - loss: 0.0074 - 13s/epoch - 4ms/step\n",
            "Epoch 18/100\n",
            "3018/3018 - 13s - loss: 0.0073 - 13s/epoch - 4ms/step\n",
            "Epoch 19/100\n",
            "3018/3018 - 12s - loss: 0.0073 - 12s/epoch - 4ms/step\n",
            "Epoch 20/100\n",
            "3018/3018 - 12s - loss: 0.0072 - 12s/epoch - 4ms/step\n",
            "Epoch 21/100\n",
            "3018/3018 - 12s - loss: 0.0072 - 12s/epoch - 4ms/step\n",
            "Epoch 22/100\n",
            "3018/3018 - 11s - loss: 0.0072 - 11s/epoch - 4ms/step\n",
            "Epoch 23/100\n",
            "3018/3018 - 11s - loss: 0.0072 - 11s/epoch - 4ms/step\n",
            "Epoch 24/100\n",
            "3018/3018 - 13s - loss: 0.0072 - 13s/epoch - 4ms/step\n",
            "Epoch 25/100\n",
            "3018/3018 - 12s - loss: 0.0072 - 12s/epoch - 4ms/step\n",
            "Epoch 26/100\n",
            "3018/3018 - 12s - loss: 0.0072 - 12s/epoch - 4ms/step\n",
            "Epoch 27/100\n",
            "3018/3018 - 12s - loss: 0.0072 - 12s/epoch - 4ms/step\n",
            "Epoch 28/100\n",
            "3018/3018 - 14s - loss: 0.0071 - 14s/epoch - 5ms/step\n",
            "Epoch 29/100\n",
            "3018/3018 - 12s - loss: 0.0071 - 12s/epoch - 4ms/step\n",
            "Epoch 30/100\n",
            "3018/3018 - 12s - loss: 0.0071 - 12s/epoch - 4ms/step\n",
            "Epoch 31/100\n",
            "3018/3018 - 12s - loss: 0.0071 - 12s/epoch - 4ms/step\n",
            "Epoch 32/100\n",
            "3018/3018 - 12s - loss: 0.0071 - 12s/epoch - 4ms/step\n",
            "Epoch 33/100\n",
            "3018/3018 - 11s - loss: 0.0071 - 11s/epoch - 4ms/step\n",
            "Epoch 34/100\n",
            "3018/3018 - 14s - loss: 0.0071 - 14s/epoch - 5ms/step\n",
            "Epoch 35/100\n",
            "3018/3018 - 12s - loss: 0.0070 - 12s/epoch - 4ms/step\n",
            "Epoch 36/100\n",
            "3018/3018 - 13s - loss: 0.0071 - 13s/epoch - 4ms/step\n",
            "Epoch 37/100\n",
            "3018/3018 - 12s - loss: 0.0071 - 12s/epoch - 4ms/step\n",
            "Epoch 38/100\n",
            "3018/3018 - 12s - loss: 0.0071 - 12s/epoch - 4ms/step\n"
          ]
        },
        {
          "output_type": "display_data",
          "data": {
            "text/plain": [
              "<Figure size 640x480 with 1 Axes>"
            ],
            "image/png": "[encoded data removed]"
          },
          "metadata": {}
        },
        {
          "output_type": "stream",
          "name": "stdout",
          "text": [
            "24/24 [==============================] - 0s 3ms/step\n",
            "MAPE: 8.043325321461833\n",
            "RMSE: 1452.560284256036\n",
            "Correlation 0.7924755404770378 with p-value 1.7026262754037661e-161\n"
          ]
        }
      ]
    },
    {
      "cell_type": "markdown",
      "source": [
        "# Visualization of model"
      ],
      "metadata": {
        "id": "pa49-OiQ5apm"
      }
    },
    {
      "cell_type": "code",
      "source": [
        "!pip install visualkeras"
      ],
      "metadata": {
        "colab": {
          "base_uri": "https://localhost:8080/"
        },
        "id": "k1_wm5nZp_DM",
        "outputId": "61ae5bd9-60c6-482c-c12e-e42ddd2de542"
      },
      "execution_count": 90,
      "outputs": [
        {
          "output_type": "stream",
          "name": "stdout",
          "text": [
            "Requirement already satisfied: visualkeras in /usr/local/lib/python3.10/dist-packages (0.0.2)\n",
            "Requirement already satisfied: pillow>=6.2.0 in /usr/local/lib/python3.10/dist-packages (from visualkeras) (9.4.0)\n",
            "Requirement already satisfied: numpy>=1.18.1 in /usr/local/lib/python3.10/dist-packages (from visualkeras) (1.25.2)\n",
            "Requirement already satisfied: aggdraw>=1.3.11 in /usr/local/lib/python3.10/dist-packages (from visualkeras) (1.3.18.post0)\n"
          ]
        }
      ]
    },
    {
      "cell_type": "code",
      "source": [
        "model = Sequential()\n",
        "model.add(InputLayer(input_shape=(train_X.shape[1], train_X.shape[2]), name='Input_Layer'))\n",
        "model.add(LSTM(30, activation='sigmoid', return_sequences=True, name='LSTM_Layer_1'))\n",
        "model.add(Dropout(rate=0.2, name='Dropout_Layer_0.2'))\n",
        "model.add(LSTM(60, activation='tanh', name='LSTM_Layer_2'))\n",
        "model.add(Dropout(rate=0.3, name='Dropout_Layer_0.3'))\n",
        "model.add(Dense(1, activation='linear', name='Dense_Layer'))\n",
        "model.compile(optimizer='rmsprop', loss='mse')\n",
        "\n",
        "plot_model(model, to_file='model_plot.png', show_shapes=True, show_layer_names=True)\n"
      ],
      "metadata": {
        "colab": {
          "base_uri": "https://localhost:8080/",
          "height": 180
        },
        "id": "WxUL4G-As2ah",
        "outputId": "5ce8e154-5d13-4313-e3e8-d48f6eec48a2"
      },
      "execution_count": 91,
      "outputs": [
        {
          "output_type": "error",
          "ename": "NameError",
          "evalue": "name 'plot_model' is not defined",
          "traceback": [
            "\u001b[0;31m---------------------------------------------------------------------------\u001b[0m",
            "\u001b[0;31mNameError\u001b[0m                                 Traceback (most recent call last)",
            "\u001b[0;32m<ipython-input-91-95cd74eddd51>\u001b[0m in \u001b[0;36m<cell line: 10>\u001b[0;34m()\u001b[0m\n\u001b[1;32m      8\u001b[0m \u001b[0mmodel\u001b[0m\u001b[0;34m.\u001b[0m\u001b[0mcompile\u001b[0m\u001b[0;34m(\u001b[0m\u001b[0moptimizer\u001b[0m\u001b[0;34m=\u001b[0m\u001b[0;34m'rmsprop'\u001b[0m\u001b[0;34m,\u001b[0m \u001b[0mloss\u001b[0m\u001b[0;34m=\u001b[0m\u001b[0;34m'mse'\u001b[0m\u001b[0;34m)\u001b[0m\u001b[0;34m\u001b[0m\u001b[0;34m\u001b[0m\u001b[0m\n\u001b[1;32m      9\u001b[0m \u001b[0;34m\u001b[0m\u001b[0m\n\u001b[0;32m---> 10\u001b[0;31m \u001b[0mplot_model\u001b[0m\u001b[0;34m(\u001b[0m\u001b[0mmodel\u001b[0m\u001b[0;34m,\u001b[0m \u001b[0mto_file\u001b[0m\u001b[0;34m=\u001b[0m\u001b[0;34m'model_plot.png'\u001b[0m\u001b[0;34m,\u001b[0m \u001b[0mshow_shapes\u001b[0m\u001b[0;34m=\u001b[0m\u001b[0;32mTrue\u001b[0m\u001b[0;34m,\u001b[0m \u001b[0mshow_layer_names\u001b[0m\u001b[0;34m=\u001b[0m\u001b[0;32mTrue\u001b[0m\u001b[0;34m)\u001b[0m\u001b[0;34m\u001b[0m\u001b[0;34m\u001b[0m\u001b[0m\n\u001b[0m",
            "\u001b[0;31mNameError\u001b[0m: name 'plot_model' is not defined"
          ]
        }
      ]
    },
    {
      "cell_type": "code",
      "source": [
        "# from tensorflow.keras.utils import plot_model\n",
        "\n",
        "# model = Sequential()\n",
        "# model.add(LSTM(30, activation='relu', return_sequences=True, input_shape=(train_X.shape[1], train_X.shape[2]), name='LSTM1'))\n",
        "# model.add(LSTM(90, activation='relu', name='LSTM2'))\n",
        "# model.add(Dense(1, name='Dense'))\n",
        "# model.compile(optimizer='adam', loss='mse')\n",
        "\n",
        "# plot_model(model, to_file='model_plot.png', show_shapes=True, show_layer_names=True)\n",
        "\n",
        "# # plot_model(model, show_shapes=True, show_layer_names=True) # to_file='/content/drive/MyDrive/master_thesis_data/preprocessed_data.csv.png',\n",
        "\n"
      ],
      "metadata": {
        "id": "731pudOopOXu"
      },
      "execution_count": null,
      "outputs": []
    },
    {
      "cell_type": "markdown",
      "source": [
        "# MLR"
      ],
      "metadata": {
        "id": "MRXMKV1qp76X"
      }
    },
    {
      "cell_type": "markdown",
      "source": [
        "### All predictors"
      ],
      "metadata": {
        "id": "0ZEb_BLTp8zO"
      }
    },
    {
      "cell_type": "code",
      "source": [
        "df = read_processed_data()\n",
        "df_flagged = create_national_holiday_and_event_flag(df)\n",
        "numerical_columns = find_numerical_columns(df_flagged)\n",
        "\n",
        "df_flagged_outliers_cleared = clear_outliers(df_flagged, numerical_columns=['LoadConsumption'], start_winter=start_test_wintertime)\n",
        "\n",
        "df_lag = shift_data(df_flagged_outliers_cleared, n_days_lag)\n",
        "\n",
        "(df_test, df_train_val) = split_train_val_test(df_lag, start_test_wintertime)\n",
        "\n",
        "(df_train_val, df_test, numerical_columns_lagged) = impute_numerical_columns(df_train_val, df_test, numerical_columns, n_days_lag)\n",
        "\n",
        "df_train_val.set_index('DateUTC', inplace=True)\n",
        "df_test.set_index('DateUTC', inplace=True)\n",
        "\n",
        "# scale data\n",
        "scaler = MinMaxScaler(feature_range=(0, 1))\n",
        "\n",
        "train_scaled = scaler.fit_transform(df_train_val)\n",
        "df_train_scaled = pd.DataFrame(train_scaled, columns=[i + \"_scaled\" for i in df_train_val.columns])\n",
        "\n",
        "df_test = df_test[df_train_val.columns]\n",
        "test_scaled = scaler.transform(df_test)\n",
        "df_test_scaled = pd.DataFrame(test_scaled, columns=[i + \"_scaled\" for i in df_train_val.columns])\n",
        "\n",
        "# reorder columns\n",
        "cols_ordered = list(df_train_scaled)\n",
        "cols_ordered.remove('LoadConsumption_scaled')\n",
        "cols_ordered.append('LoadConsumption_scaled')\n",
        "df_train_scaled = df_train_scaled[cols_ordered]\n",
        "df_test_scaled = df_test_scaled[cols_ordered]\n",
        "\n",
        "# split into X and y\n",
        "train_values = df_train_scaled.values\n",
        "test_values = df_test_scaled.values\n",
        "\n",
        "train_X, train_y = train_values[:, :-1], train_values[:, -1]\n",
        "test_X, test_y = test_values[:, :-1], test_values[:, -1]\n"
      ],
      "metadata": {
        "id": "0fHc9m1FF76a"
      },
      "execution_count": null,
      "outputs": []
    },
    {
      "cell_type": "code",
      "source": [
        "from sklearn.linear_model import LinearRegression\n",
        "\n",
        "LR = LinearRegression()\n",
        "LR.fit(train_X, train_y)\n",
        "pred = LR.predict(test_X)\n",
        "\n",
        "yhat_inversed = inverse_transform_predictions(scaler=scaler, data=pred, colName='LoadConsumption_scaled', colNames=df_train_scaled.columns)\n",
        "mape, rmse, corr_test, p_value_test = evaluate_predictions(test_y, yhat_inversed, scaler, df_train_scaled)"
      ],
      "metadata": {
        "id": "cvKn5j7xp-Ip"
      },
      "execution_count": null,
      "outputs": []
    },
    {
      "cell_type": "markdown",
      "source": [
        "### Top n predictors"
      ],
      "metadata": {
        "id": "2oYi_45HqAOz"
      }
    },
    {
      "cell_type": "code",
      "source": [
        "df = read_processed_data()\n",
        "df_flagged = create_national_holiday_and_event_flag(df)\n",
        "numerical_columns = find_numerical_columns(df_flagged)\n",
        "\n",
        "df_flagged_outliers_cleared = clear_outliers(df_flagged, numerical_columns=['LoadConsumption'], start_winter=start_test_wintertime)\n",
        "\n",
        "df_lag = shift_data(df_flagged_outliers_cleared, n_days_lag)\n",
        "\n",
        "(df_test, df_train_val) = split_train_val_test(df_lag, start_test_wintertime)\n",
        "\n",
        "(df_train_val, df_test, numerical_columns_lagged) = impute_numerical_columns(df_train_val, df_test, numerical_columns, n_days_lag)\n",
        "\n",
        "predictors_dict, predictors_list = select_top_n_correlated_predictors(df_train_val, numerical_columns_lagged, n_predictors, alpha)\n",
        "cols_to_select = predictors_list.copy()\n",
        "cols_to_select.append('DateUTC')\n",
        "cols_to_select.append('LoadConsumption')\n",
        "df_train_val = df_train_val[cols_to_select]\n",
        "df_test = df_test[cols_to_select]\n",
        "\n",
        "\n",
        "df_train_val.set_index('DateUTC', inplace=True)\n",
        "df_test.set_index('DateUTC', inplace=True)\n",
        "\n",
        "# scale data\n",
        "scaler = MinMaxScaler(feature_range=(0, 1))\n",
        "\n",
        "train_scaled = scaler.fit_transform(df_train_val)\n",
        "df_train_scaled = pd.DataFrame(train_scaled, columns=[i + \"_scaled\" for i in df_train_val.columns])\n",
        "\n",
        "df_test = df_test[df_train_val.columns]\n",
        "test_scaled = scaler.transform(df_test)\n",
        "df_test_scaled = pd.DataFrame(test_scaled, columns=[i + \"_scaled\" for i in df_train_val.columns])\n",
        "\n",
        "# reorder columns\n",
        "cols_ordered = list(df_train_scaled)\n",
        "cols_ordered.remove('LoadConsumption_scaled')\n",
        "cols_ordered.append('LoadConsumption_scaled')\n",
        "df_train_scaled = df_train_scaled[cols_ordered]\n",
        "df_test_scaled = df_test_scaled[cols_ordered]\n",
        "\n",
        "# split into X and y\n",
        "train_values = df_train_scaled.values\n",
        "test_values = df_test_scaled.values\n",
        "\n",
        "train_X, train_y = train_values[:, :-1], train_values[:, -1]\n",
        "test_X, test_y = test_values[:, :-1], test_values[:, -1]"
      ],
      "metadata": {
        "id": "QTOBxMMrqBI4"
      },
      "execution_count": null,
      "outputs": []
    },
    {
      "cell_type": "code",
      "source": [
        "from sklearn.linear_model import LinearRegression\n",
        "\n",
        "LR = LinearRegression()\n",
        "LR.fit(train_X, train_y)\n",
        "pred = LR.predict(test_X)\n",
        "\n",
        "yhat_inversed = inverse_transform_predictions(scaler=scaler, data=pred, colName='LoadConsumption_scaled', colNames=df_train_scaled.columns)\n",
        "mape, rmse, corr_test, p_value_test = evaluate_predictions(test_y, yhat_inversed, scaler, df_train_scaled)"
      ],
      "metadata": {
        "id": "JjjsG1LlqD1Y"
      },
      "execution_count": null,
      "outputs": []
    },
    {
      "cell_type": "markdown",
      "source": [
        "### No predictors"
      ],
      "metadata": {
        "id": "_vQso7KeqHz3"
      }
    },
    {
      "cell_type": "code",
      "source": [
        "df = read_processed_data()\n",
        "df_flagged = create_national_holiday_and_event_flag(df)\n",
        "numerical_columns = find_numerical_columns(df_flagged)\n",
        "\n",
        "df_flagged_outliers_cleared = clear_outliers(df_flagged, numerical_columns=['LoadConsumption'], start_winter=start_test_wintertime)\n",
        "\n",
        "df_lag = shift_data(df_flagged_outliers_cleared, n_days_lag)\n",
        "\n",
        "(df_test, df_train_val) = split_train_val_test(df_lag, start_test_wintertime)\n",
        "\n",
        "(df_train_val, df_test, numerical_columns_lagged) = impute_numerical_columns(df_train_val, df_test, numerical_columns, n_days_lag)\n",
        "\n",
        "\n",
        "df_train_val = df_train_val[['DateUTC', 'LoadConsumption', f'LoadConsumption-{n_days_lag}days']]\n",
        "df_test = df_test[['DateUTC', 'LoadConsumption', f'LoadConsumption-{n_days_lag}days']]\n",
        "\n",
        "df_train_val.set_index('DateUTC', inplace=True)\n",
        "df_test.set_index('DateUTC', inplace=True)\n",
        "\n",
        "# scale data\n",
        "scaler = MinMaxScaler(feature_range=(0, 1))\n",
        "\n",
        "train_scaled = scaler.fit_transform(df_train_val)\n",
        "df_train_scaled = pd.DataFrame(train_scaled, columns=[i + \"_scaled\" for i in df_train_val.columns])\n",
        "\n",
        "df_test = df_test[df_train_val.columns]\n",
        "test_scaled = scaler.transform(df_test)\n",
        "df_test_scaled = pd.DataFrame(test_scaled, columns=[i + \"_scaled\" for i in df_train_val.columns])\n",
        "\n",
        "# reorder columns\n",
        "cols_ordered = list(df_train_scaled)\n",
        "cols_ordered.remove('LoadConsumption_scaled')\n",
        "cols_ordered.append('LoadConsumption_scaled')\n",
        "df_train_scaled = df_train_scaled[cols_ordered]\n",
        "df_test_scaled = df_test_scaled[cols_ordered]\n",
        "\n",
        "# split into X and y\n",
        "train_values = df_train_scaled.values\n",
        "test_values = df_test_scaled.values\n",
        "\n",
        "train_X, train_y = train_values[:, :-1], train_values[:, -1]\n",
        "test_X, test_y = test_values[:, :-1], test_values[:, -1]"
      ],
      "metadata": {
        "id": "TzWH80KnqDyp"
      },
      "execution_count": null,
      "outputs": []
    },
    {
      "cell_type": "code",
      "source": [
        "from sklearn.linear_model import LinearRegression\n",
        "\n",
        "LR = LinearRegression()\n",
        "LR.fit(train_X, train_y)\n",
        "pred = LR.predict(test_X)\n",
        "\n",
        "yhat_inversed = inverse_transform_predictions(scaler=scaler, data=pred, colName='LoadConsumption_scaled', colNames=df_train_scaled.columns)\n",
        "mape, rmse, corr_test, p_value_test = evaluate_predictions(test_y, yhat_inversed, scaler, df_train_scaled)"
      ],
      "metadata": {
        "id": "AUQVmgtKqDu2"
      },
      "execution_count": null,
      "outputs": []
    }
  ]
}